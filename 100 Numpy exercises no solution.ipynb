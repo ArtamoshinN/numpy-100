{
 "cells": [
  {
   "cell_type": "markdown",
   "metadata": {},
   "source": [
    "# 100 numpy exercises\n",
    "\n",
    "This is a collection of exercises that have been collected in the numpy mailing list, on stack overflow and in the numpy documentation. The goal of this collection is to offer a quick reference for both old and new users but also to provide a set of exercises for those who teach.\n",
    "\n",
    "\n",
    "If you find an error or think you've a better way to solve some of them, feel free to open an issue at <https://github.com/rougier/numpy-100>"
   ]
  },
  {
   "cell_type": "markdown",
   "metadata": {},
   "source": [
    "#### 1. Import the numpy package under the name `np` (★☆☆)"
   ]
  },
  {
   "cell_type": "code",
   "execution_count": 2,
   "metadata": {
    "collapsed": true
   },
   "outputs": [],
   "source": [
    "import numpy as np"
   ]
  },
  {
   "cell_type": "markdown",
   "metadata": {},
   "source": [
    "#### 2. Print the numpy version and the configuration (★☆☆)"
   ]
  },
  {
   "cell_type": "code",
   "execution_count": 3,
   "metadata": {},
   "outputs": [
    {
     "name": "stdout",
     "output_type": "stream",
     "text": [
      "1.13.3\n"
     ]
    }
   ],
   "source": [
    "print(np.__version__)"
   ]
  },
  {
   "cell_type": "markdown",
   "metadata": {},
   "source": [
    "#### 3. Create a null vector of size 10 (★☆☆)"
   ]
  },
  {
   "cell_type": "code",
   "execution_count": 4,
   "metadata": {},
   "outputs": [
    {
     "name": "stdout",
     "output_type": "stream",
     "text": [
      "[ 0.  0.  0.  0.  0.  0.  0.  0.  0.  0.]\n"
     ]
    }
   ],
   "source": [
    "print(np.zeros(10))"
   ]
  },
  {
   "cell_type": "markdown",
   "metadata": {},
   "source": [
    "#### 4.  How to find the memory size of any array (★☆☆)"
   ]
  },
  {
   "cell_type": "code",
   "execution_count": 13,
   "metadata": {},
   "outputs": [
    {
     "name": "stdout",
     "output_type": "stream",
     "text": [
      "800 bytes\n"
     ]
    }
   ],
   "source": [
    "z = np.zeros((10, 10))\n",
    "print(\"%d bytes\" % (z.size * z.itemsize))"
   ]
  },
  {
   "cell_type": "markdown",
   "metadata": {},
   "source": [
    "#### 5.  How to get the documentation of the numpy add function from the command line? (★☆☆)"
   ]
  },
  {
   "cell_type": "code",
   "execution_count": null,
   "metadata": {
    "collapsed": true
   },
   "outputs": [],
   "source": []
  },
  {
   "cell_type": "markdown",
   "metadata": {},
   "source": [
    "#### 6.  Create a null vector of size 10 but the fifth value which is 1 (★☆☆)"
   ]
  },
  {
   "cell_type": "code",
   "execution_count": 16,
   "metadata": {},
   "outputs": [
    {
     "name": "stdout",
     "output_type": "stream",
     "text": [
      "[ 0.  0.  0.  0.  1.  0.  0.  0.  0.  0.]\n"
     ]
    }
   ],
   "source": [
    "z = np.zeros(10)\n",
    "z[4] = 1\n",
    "print(z)"
   ]
  },
  {
   "cell_type": "markdown",
   "metadata": {},
   "source": [
    "#### 7.  Create a vector with values ranging from 10 to 49 (★☆☆)"
   ]
  },
  {
   "cell_type": "code",
   "execution_count": 20,
   "metadata": {},
   "outputs": [
    {
     "name": "stdout",
     "output_type": "stream",
     "text": [
      "[10 11 12 13 14 15 16 17 18 19 20 21 22 23 24 25 26 27 28 29 30 31 32 33 34\n",
      " 35 36 37 38 39 40 41 42 43 44 45 46 47 48]\n"
     ]
    }
   ],
   "source": [
    "z = np.arange(10, 50)\n",
    "print(z)"
   ]
  },
  {
   "cell_type": "markdown",
   "metadata": {},
   "source": [
    "#### 8.  Reverse a vector (first element becomes last) (★☆☆)"
   ]
  },
  {
   "cell_type": "code",
   "execution_count": 22,
   "metadata": {},
   "outputs": [
    {
     "name": "stdout",
     "output_type": "stream",
     "text": [
      "[49 48 47 46 45 44 43 42 41 40 39 38 37 36 35 34 33 32 31 30 29 28 27 26 25\n",
      " 24 23 22 21 20 19 18 17 16 15 14 13 12 11 10]\n"
     ]
    }
   ],
   "source": [
    "z = np.arange(10, 50)\n",
    "z = z[::-1]\n",
    "print(z)"
   ]
  },
  {
   "cell_type": "markdown",
   "metadata": {},
   "source": [
    "#### 9.  Create a 3x3 matrix with values ranging from 0 to 8 (★☆☆)"
   ]
  },
  {
   "cell_type": "code",
   "execution_count": 24,
   "metadata": {},
   "outputs": [
    {
     "name": "stdout",
     "output_type": "stream",
     "text": [
      "[[0 1 2]\n",
      " [3 4 5]\n",
      " [6 7 8]]\n"
     ]
    }
   ],
   "source": [
    "z = np.arange(9).reshape(3, 3)\n",
    "print(z)"
   ]
  },
  {
   "cell_type": "markdown",
   "metadata": {},
   "source": [
    "#### 10. Find indices of non-zero elements from \\[1,2,0,0,4,0\\] (★☆☆)"
   ]
  },
  {
   "cell_type": "code",
   "execution_count": 25,
   "metadata": {},
   "outputs": [
    {
     "name": "stdout",
     "output_type": "stream",
     "text": [
      "(array([0, 1, 4]),)\n"
     ]
    }
   ],
   "source": [
    "nz = np.nonzero([1, 2, 0, 0, 4, 0])\n",
    "print(nz)"
   ]
  },
  {
   "cell_type": "markdown",
   "metadata": {},
   "source": [
    "#### 11. Create a 3x3 identity matrix (★☆☆)"
   ]
  },
  {
   "cell_type": "code",
   "execution_count": 31,
   "metadata": {},
   "outputs": [
    {
     "name": "stdout",
     "output_type": "stream",
     "text": [
      "[[ 1.  0.  0.]\n",
      " [ 0.  1.  0.]\n",
      " [ 0.  0.  1.]]\n"
     ]
    }
   ],
   "source": [
    "z = np.eye(3, 3)\n",
    "print(z)"
   ]
  },
  {
   "cell_type": "markdown",
   "metadata": {},
   "source": [
    "#### 12. Create a 3x3x3 array with random values (★☆☆)"
   ]
  },
  {
   "cell_type": "code",
   "execution_count": 33,
   "metadata": {},
   "outputs": [
    {
     "name": "stdout",
     "output_type": "stream",
     "text": [
      "[[[ 0.54308501  0.38277453  0.64441375]\n",
      "  [ 0.16357292  0.49775442  0.39624371]\n",
      "  [ 0.44473463  0.5591938   0.03093905]]\n",
      "\n",
      " [[ 0.50181885  0.51171345  0.12612597]\n",
      "  [ 0.58219531  0.44128213  0.06782652]\n",
      "  [ 0.98387609  0.71152323  0.35522516]]\n",
      "\n",
      " [[ 0.67213522  0.59232995  0.38997787]\n",
      "  [ 0.45239096  0.28229258  0.48800295]\n",
      "  [ 0.18597379  0.57500719  0.98596487]]]\n"
     ]
    }
   ],
   "source": [
    "z = np.random.random((3, 3, 3))\n",
    "print(z)"
   ]
  },
  {
   "cell_type": "markdown",
   "metadata": {},
   "source": [
    "#### 13. Create a 10x10 array with random values and find the minimum and maximum values (★☆☆)"
   ]
  },
  {
   "cell_type": "code",
   "execution_count": 36,
   "metadata": {},
   "outputs": [
    {
     "name": "stdout",
     "output_type": "stream",
     "text": [
      "[[ 0.72073884  0.5639478   0.22894531  0.18995118  0.29054222  0.43435713\n",
      "   0.30669082  0.11343338  0.23739755  0.07886164]\n",
      " [ 0.28505265  0.97279479  0.35168074  0.99661888  0.1652565   0.21238001\n",
      "   0.40977219  0.1685802   0.41214648  0.06466403]\n",
      " [ 0.59979553  0.44807911  0.85537593  0.75024354  0.16063606  0.69712421\n",
      "   0.39523329  0.4025719   0.52251056  0.77497729]\n",
      " [ 0.4905683   0.69834955  0.88895843  0.57275731  0.64138961  0.19269417\n",
      "   0.82131746  0.73287793  0.95390931  0.32419953]\n",
      " [ 0.49762148  0.97116903  0.30805695  0.13411835  0.98166322  0.01204516\n",
      "   0.52371894  0.07251135  0.3135053   0.782835  ]\n",
      " [ 0.30404307  0.14869151  0.43270791  0.348487    0.97322438  0.8269144\n",
      "   0.19535604  0.39411348  0.14859988  0.41659681]\n",
      " [ 0.67162344  0.16225716  0.65905921  0.04356852  0.37876326  0.42621849\n",
      "   0.85570437  0.80480545  0.21931461  0.00310441]\n",
      " [ 0.7448589   0.19626784  0.98050796  0.30166661  0.19181538  0.73996416\n",
      "   0.21929294  0.64207324  0.84969178  0.21630334]\n",
      " [ 0.71585529  0.52393614  0.22258087  0.45263589  0.38939092  0.04460469\n",
      "   0.31989047  0.02874621  0.26392104  0.62351657]\n",
      " [ 0.85436644  0.26042782  0.98376165  0.7746698   0.65127997  0.34162583\n",
      "   0.95693817  0.57140779  0.73807825  0.8241199 ]]\n",
      "0.996618875128 0.00310441382433\n"
     ]
    }
   ],
   "source": [
    "z = np.random.random((10, 10))\n",
    "ma = z.max()\n",
    "mi = z.min()\n",
    "print(z)\n",
    "print(ma, mi)"
   ]
  },
  {
   "cell_type": "markdown",
   "metadata": {},
   "source": [
    "#### 14. Create a random vector of size 30 and find the mean value (★☆☆)"
   ]
  },
  {
   "cell_type": "code",
   "execution_count": 41,
   "metadata": {},
   "outputs": [
    {
     "name": "stdout",
     "output_type": "stream",
     "text": [
      "0.429910787852\n"
     ]
    }
   ],
   "source": [
    "z = np.random.random(30)\n",
    "m = z.mean()\n",
    "print(m)"
   ]
  },
  {
   "cell_type": "markdown",
   "metadata": {},
   "source": [
    "#### 15. Create a 2d array with 1 on the border and 0 inside (★☆☆)"
   ]
  },
  {
   "cell_type": "code",
   "execution_count": 45,
   "metadata": {},
   "outputs": [
    {
     "name": "stdout",
     "output_type": "stream",
     "text": [
      "[[ 1.  1.  1.  1.  1.  1.  1.  1.  1.  1.]\n",
      " [ 1.  0.  0.  0.  0.  0.  0.  0.  0.  1.]\n",
      " [ 1.  0.  0.  0.  0.  0.  0.  0.  0.  1.]\n",
      " [ 1.  0.  0.  0.  0.  0.  0.  0.  0.  1.]\n",
      " [ 1.  0.  0.  0.  0.  0.  0.  0.  0.  1.]\n",
      " [ 1.  0.  0.  0.  0.  0.  0.  0.  0.  1.]\n",
      " [ 1.  0.  0.  0.  0.  0.  0.  0.  0.  1.]\n",
      " [ 1.  0.  0.  0.  0.  0.  0.  0.  0.  1.]\n",
      " [ 1.  0.  0.  0.  0.  0.  0.  0.  0.  1.]\n",
      " [ 1.  1.  1.  1.  1.  1.  1.  1.  1.  1.]]\n"
     ]
    }
   ],
   "source": [
    "z = np.ones((10, 10))\n",
    "z[1:-1, 1:-1] = 0\n",
    "print(z)"
   ]
  },
  {
   "cell_type": "markdown",
   "metadata": {},
   "source": [
    "#### 16. How to add a border (filled with 0's) around an existing array? (★☆☆)"
   ]
  },
  {
   "cell_type": "code",
   "execution_count": 58,
   "metadata": {},
   "outputs": [
    {
     "name": "stdout",
     "output_type": "stream",
     "text": [
      "[[ 0.  0.  0.  0.  0.  0.  0.]\n",
      " [ 0.  1.  1.  1.  1.  1.  0.]\n",
      " [ 0.  1.  1.  1.  1.  1.  0.]\n",
      " [ 0.  1.  1.  1.  1.  1.  0.]\n",
      " [ 0.  1.  1.  1.  1.  1.  0.]\n",
      " [ 0.  1.  1.  1.  1.  1.  0.]\n",
      " [ 0.  0.  0.  0.  0.  0.  0.]]\n"
     ]
    }
   ],
   "source": [
    "z = np.ones((5, 5))\n",
    "z = np.pad(z, pad_width=1, mode='constant', constant_values=0)\n",
    "print(z)"
   ]
  },
  {
   "cell_type": "code",
   "execution_count": 71,
   "metadata": {},
   "outputs": [
    {
     "name": "stdout",
     "output_type": "stream",
     "text": [
      "[[ 5.  5.  5.  5.  5.  5.  5.  5.  5.]\n",
      " [ 5.  4.  4.  4.  4.  4.  4.  4.  5.]\n",
      " [ 5.  4.  3.  3.  3.  3.  3.  4.  5.]\n",
      " [ 5.  4.  3.  2.  2.  2.  3.  4.  5.]\n",
      " [ 5.  4.  3.  2.  1.  2.  3.  4.  5.]\n",
      " [ 5.  4.  3.  2.  2.  2.  3.  4.  5.]\n",
      " [ 5.  4.  3.  3.  3.  3.  3.  4.  5.]\n",
      " [ 5.  4.  4.  4.  4.  4.  4.  4.  5.]\n",
      " [ 5.  5.  5.  5.  5.  5.  5.  5.  5.]]\n"
     ]
    }
   ],
   "source": [
    "z = np.ones((1, 1))\n",
    "z = np.pad(z, pad_width=1, mode='constant', constant_values=2)\n",
    "z = np.pad(z, pad_width=1, mode='constant', constant_values=3)\n",
    "z = np.pad(z, pad_width=1, mode='constant', constant_values=4)\n",
    "z = np.pad(z, pad_width=1, mode='constant', constant_values=5)\n",
    "print(z)"
   ]
  },
  {
   "cell_type": "markdown",
   "metadata": {},
   "source": [
    "#### 17. What is the result of the following expression? (★☆☆)"
   ]
  },
  {
   "cell_type": "markdown",
   "metadata": {},
   "source": [
    "```python\n",
    "0 * np.nan\n",
    "np.nan == np.nan\n",
    "np.inf > np.nan\n",
    "np.nan - np.nan\n",
    "0.3 == 3 * 0.1\n",
    "```"
   ]
  },
  {
   "cell_type": "code",
   "execution_count": 74,
   "metadata": {},
   "outputs": [
    {
     "name": "stdout",
     "output_type": "stream",
     "text": [
      "nan\n",
      "False\n",
      "False\n",
      "nan\n",
      "False\n"
     ]
    }
   ],
   "source": [
    "print(0 * np.nan)\n",
    "print(np.nan == np.nan)\n",
    "print(np.inf > np.nan)\n",
    "print(np.nan - np.nan)\n",
    "print(0.3 == 3 * 0.1)"
   ]
  },
  {
   "cell_type": "markdown",
   "metadata": {},
   "source": [
    "#### 18. Create a 5x5 matrix with values 1,2,3,4 just below the diagonal (★☆☆)"
   ]
  },
  {
   "cell_type": "code",
   "execution_count": 87,
   "metadata": {},
   "outputs": [
    {
     "name": "stdout",
     "output_type": "stream",
     "text": [
      "[[0 0 0 0 0]\n",
      " [1 0 0 0 0]\n",
      " [0 2 0 0 0]\n",
      " [0 0 3 0 0]\n",
      " [0 0 0 4 0]]\n"
     ]
    }
   ],
   "source": [
    "z = np.diag(1 + np.arange(4), k=-1)\n",
    "print(z)"
   ]
  },
  {
   "cell_type": "code",
   "execution_count": 90,
   "metadata": {},
   "outputs": [
    {
     "name": "stdout",
     "output_type": "stream",
     "text": [
      "[[1 0 0 0 0 0 0]\n",
      " [0 2 0 0 0 0 0]\n",
      " [0 0 3 0 0 0 0]\n",
      " [0 0 0 4 0 0 0]\n",
      " [0 0 0 0 5 0 0]\n",
      " [0 0 0 0 0 6 0]\n",
      " [0 0 0 0 0 0 7]]\n"
     ]
    }
   ],
   "source": [
    "z = np.diag( 1 + np.arange(7), k=0)\n",
    "print(z)"
   ]
  },
  {
   "cell_type": "markdown",
   "metadata": {},
   "source": [
    "#### 19. Create a 8x8 matrix and fill it with a checkerboard pattern (★☆☆)"
   ]
  },
  {
   "cell_type": "code",
   "execution_count": 99,
   "metadata": {},
   "outputs": [
    {
     "name": "stdout",
     "output_type": "stream",
     "text": [
      "[[ 0.  1.  0.  1.  0.  1.  0.  1.]\n",
      " [ 1.  0.  1.  0.  1.  0.  1.  0.]\n",
      " [ 0.  1.  0.  1.  0.  1.  0.  1.]\n",
      " [ 1.  0.  1.  0.  1.  0.  1.  0.]\n",
      " [ 0.  1.  0.  1.  0.  1.  0.  1.]\n",
      " [ 1.  0.  1.  0.  1.  0.  1.  0.]\n",
      " [ 0.  1.  0.  1.  0.  1.  0.  1.]\n",
      " [ 1.  0.  1.  0.  1.  0.  1.  0.]]\n"
     ]
    }
   ],
   "source": [
    "z = np.zeros((8, 8))#как шахматная доска\n",
    "z[1::2,::2] = 1\n",
    "z[::2,1::2] = 1\n",
    "print(z)"
   ]
  },
  {
   "cell_type": "markdown",
   "metadata": {},
   "source": [
    "#### 20. Consider a (6,7,8) shape array, what is the index (x,y,z) of the 100th element?"
   ]
  },
  {
   "cell_type": "code",
   "execution_count": 100,
   "metadata": {},
   "outputs": [
    {
     "name": "stdout",
     "output_type": "stream",
     "text": [
      "(1, 5, 4)\n"
     ]
    }
   ],
   "source": [
    "print(np.unravel_index(100,(6,7,8)))"
   ]
  },
  {
   "cell_type": "markdown",
   "metadata": {},
   "source": [
    "#### 21. Create a checkerboard 8x8 matrix using the tile function (★☆☆)"
   ]
  },
  {
   "cell_type": "code",
   "execution_count": 106,
   "metadata": {},
   "outputs": [
    {
     "name": "stdout",
     "output_type": "stream",
     "text": [
      "[[1 0 1 0 1 0 1 0]\n",
      " [0 1 0 1 0 1 0 1]\n",
      " [1 0 1 0 1 0 1 0]\n",
      " [0 1 0 1 0 1 0 1]\n",
      " [1 0 1 0 1 0 1 0]\n",
      " [0 1 0 1 0 1 0 1]\n",
      " [1 0 1 0 1 0 1 0]\n",
      " [0 1 0 1 0 1 0 1]]\n"
     ]
    }
   ],
   "source": [
    "z = np.array([[1, 0], [0, 1]])\n",
    "z = np.tile(z, (4, 4))\n",
    "print(z)"
   ]
  },
  {
   "cell_type": "markdown",
   "metadata": {},
   "source": [
    "#### 22. Normalize a 5x5 random matrix (★☆☆)"
   ]
  },
  {
   "cell_type": "code",
   "execution_count": 110,
   "metadata": {},
   "outputs": [
    {
     "name": "stdout",
     "output_type": "stream",
     "text": [
      "[[ 0.8282619   0.74258889  0.39362057  0.37914075  0.61089414]\n",
      " [ 0.20346009  0.29602577  0.39586902  0.43433487  0.48704848]\n",
      " [ 0.24875584  0.7045876   0.47080487  0.38864784  0.66463976]\n",
      " [ 0.40823757  0.49835116  0.96366954  0.4303922   0.61335639]\n",
      " [ 0.7687332   0.07124272  0.22339913  0.83589781  0.58501534]]\n"
     ]
    }
   ],
   "source": [
    "z = np.random.random((5, 5))\n",
    "print(z)"
   ]
  },
  {
   "cell_type": "markdown",
   "metadata": {},
   "source": [
    "#### 23. Create a custom dtype that describes a color as four unsigned bytes (RGBA) (★☆☆)"
   ]
  },
  {
   "cell_type": "code",
   "execution_count": 111,
   "metadata": {},
   "outputs": [
    {
     "name": "stdout",
     "output_type": "stream",
     "text": [
      "[('r', 'u1'), ('g', 'u1'), ('b', 'u1'), ('a', 'u1')]\n"
     ]
    }
   ],
   "source": [
    "color = np.dtype([(\"r\", np.ubyte, 1), (\"g\", np.ubyte, 1), (\"b\", np.ubyte, 1), (\"a\", np.ubyte, 1)])\n",
    "print(color)"
   ]
  },
  {
   "cell_type": "markdown",
   "metadata": {},
   "source": [
    "#### 24. Multiply a 5x3 matrix by a 3x2 matrix (real matrix product) (★☆☆)"
   ]
  },
  {
   "cell_type": "code",
   "execution_count": 113,
   "metadata": {},
   "outputs": [
    {
     "name": "stdout",
     "output_type": "stream",
     "text": [
      "[[ 0.35666782  0.41136673]\n",
      " [ 0.99235455  1.00703526]\n",
      " [ 1.22826754  1.48460809]\n",
      " [ 0.38174216  0.47312423]\n",
      " [ 0.40083553  0.29245393]]\n"
     ]
    }
   ],
   "source": [
    "a = np.random.random((5, 3))\n",
    "b = np.random.random((3, 2))\n",
    "z = np.dot(a, b)\n",
    "print(z)"
   ]
  },
  {
   "cell_type": "markdown",
   "metadata": {},
   "source": [
    "#### 25. Given a 1D array, negate all elements which are between 3 and 8, in place. (★☆☆)"
   ]
  },
  {
   "cell_type": "code",
   "execution_count": 116,
   "metadata": {},
   "outputs": [
    {
     "name": "stdout",
     "output_type": "stream",
     "text": [
      "[ 0  1  2 -3 -4 -5 -6 -7 -8  9 10]\n"
     ]
    }
   ],
   "source": [
    "z = np.arange(11)\n",
    "z[3:9] = -z[3:9]\n",
    "print(z)"
   ]
  },
  {
   "cell_type": "markdown",
   "metadata": {},
   "source": [
    "#### 26. What is the output of the following script? (★☆☆)"
   ]
  },
  {
   "cell_type": "markdown",
   "metadata": {},
   "source": [
    "```python\n",
    "# Author: Jake VanderPlas\n",
    "\n",
    "print(sum(range(5),-1))\n",
    "from numpy import *\n",
    "print(sum(range(5),-1))\n",
    "```"
   ]
  },
  {
   "cell_type": "code",
   "execution_count": 140,
   "metadata": {},
   "outputs": [
    {
     "name": "stdout",
     "output_type": "stream",
     "text": [
      "10\n",
      "10\n"
     ]
    }
   ],
   "source": [
    "print(sum(range(5), -1))\n",
    "from numpy import *\n",
    "print(sum(range(5), -1))"
   ]
  },
  {
   "cell_type": "markdown",
   "metadata": {},
   "source": [
    "#### 27. Consider an integer vector Z, which of these expressions are legal? (★☆☆)"
   ]
  },
  {
   "cell_type": "markdown",
   "metadata": {},
   "source": [
    "```python\n",
    "Z**Z\n",
    "2 << Z >> 2\n",
    "Z <- Z\n",
    "1j*Z\n",
    "Z/1/1\n",
    "Z<Z>Z\n",
    "```"
   ]
  },
  {
   "cell_type": "code",
   "execution_count": 149,
   "metadata": {},
   "outputs": [
    {
     "name": "stdout",
     "output_type": "stream",
     "text": [
      "[[ 1.  1.  1.  1.  1.  1.  1.]\n",
      " [ 1.  1.  1.  1.  1.  1.  1.]\n",
      " [ 1.  1.  1.  1.  1.  1.  1.]\n",
      " [ 1.  1.  1.  1.  1.  1.  1.]\n",
      " [ 1.  1.  1.  1.  1.  1.  1.]\n",
      " [ 1.  1.  1.  1.  1.  1.  1.]\n",
      " [ 1.  1.  1.  1.  1.  1.  1.]]\n",
      "[[False False False False False False False]\n",
      " [False False False False False False False]\n",
      " [False False False False False False False]\n",
      " [False False False False False False False]\n",
      " [False False False False False False False]\n",
      " [False False False False False False False]\n",
      " [False False False False False False False]]\n",
      "[[ 0.+0.j  0.+0.j  0.+0.j  0.+0.j  0.+0.j  0.+0.j  0.+0.j]\n",
      " [ 0.+0.j  0.+1.j  0.+1.j  0.+1.j  0.+1.j  0.+1.j  0.+0.j]\n",
      " [ 0.+0.j  0.+1.j  0.+1.j  0.+1.j  0.+1.j  0.+1.j  0.+0.j]\n",
      " [ 0.+0.j  0.+1.j  0.+1.j  0.+1.j  0.+1.j  0.+1.j  0.+0.j]\n",
      " [ 0.+0.j  0.+1.j  0.+1.j  0.+1.j  0.+1.j  0.+1.j  0.+0.j]\n",
      " [ 0.+0.j  0.+1.j  0.+1.j  0.+1.j  0.+1.j  0.+1.j  0.+0.j]\n",
      " [ 0.+0.j  0.+0.j  0.+0.j  0.+0.j  0.+0.j  0.+0.j  0.+0.j]]\n",
      "[[ 0.  0.  0.  0.  0.  0.  0.]\n",
      " [ 0.  1.  1.  1.  1.  1.  0.]\n",
      " [ 0.  1.  1.  1.  1.  1.  0.]\n",
      " [ 0.  1.  1.  1.  1.  1.  0.]\n",
      " [ 0.  1.  1.  1.  1.  1.  0.]\n",
      " [ 0.  1.  1.  1.  1.  1.  0.]\n",
      " [ 0.  0.  0.  0.  0.  0.  0.]]\n"
     ]
    }
   ],
   "source": [
    "print(Z**Z)\n",
    "print(Z <- Z)\n",
    "print(1j*Z)\n",
    "print(Z/1/1)\n"
   ]
  },
  {
   "cell_type": "markdown",
   "metadata": {},
   "source": [
    "#### 28. What are the result of the following expressions?"
   ]
  },
  {
   "cell_type": "markdown",
   "metadata": {},
   "source": [
    "```python\n",
    "np.array(0) / np.array(0)\n",
    "np.array(0) // np.array(0)\n",
    "np.array([np.nan]).astype(int).astype(float)\n",
    "```"
   ]
  },
  {
   "cell_type": "code",
   "execution_count": 153,
   "metadata": {},
   "outputs": [
    {
     "name": "stdout",
     "output_type": "stream",
     "text": [
      "nan\n",
      "0\n",
      "[ -9.22337204e+18]\n"
     ]
    },
    {
     "name": "stderr",
     "output_type": "stream",
     "text": [
      "/usr/local/lib/python3.6/site-packages/ipykernel_launcher.py:1: RuntimeWarning: invalid value encountered in true_divide\n",
      "  \"\"\"Entry point for launching an IPython kernel.\n",
      "/usr/local/lib/python3.6/site-packages/ipykernel_launcher.py:2: RuntimeWarning: divide by zero encountered in floor_divide\n",
      "  \n"
     ]
    }
   ],
   "source": [
    "print(np.array(0) / np.array(0))\n",
    "print(np.array(0) // np.array(0))\n",
    "print(np.array([np.nan]).astype(int).astype(float))"
   ]
  },
  {
   "cell_type": "markdown",
   "metadata": {},
   "source": [
    "#### 29. How to round away from zero a float array ? (★☆☆)"
   ]
  },
  {
   "cell_type": "code",
   "execution_count": 172,
   "metadata": {},
   "outputs": [
    {
     "name": "stdout",
     "output_type": "stream",
     "text": [
      "[ 7.6559497   5.66385971  5.70254357  1.48082042  0.06782627  0.76714613\n",
      "  8.77829068  5.70968274 -3.69629589  6.56937624]\n",
      "[ 8.  6.  6.  2.  1.  1.  9.  6. -3.  7.]\n",
      "[ 8.  6.  6.  2.  1.  1.  9.  6. -4.  7.]\n"
     ]
    }
   ],
   "source": [
    "z = np.random.uniform(-10, +10, 10)\n",
    "print(z)\n",
    "print(np.ceil(z))\n",
    "print(np.copysign(np.ceil(np.abs(z)), z))"
   ]
  },
  {
   "cell_type": "markdown",
   "metadata": {},
   "source": [
    "#### 30. How to find common values between two arrays? (★☆☆)"
   ]
  },
  {
   "cell_type": "code",
   "execution_count": 189,
   "metadata": {},
   "outputs": [
    {
     "name": "stdout",
     "output_type": "stream",
     "text": [
      "[7 4 4 4 5 9 1 5 3 4]\n",
      "[6 0 2 8 3 8 0 9 9 8]\n",
      "[3 9]\n"
     ]
    }
   ],
   "source": [
    "a = np.random.randint(0, 10, 10)#рандом целых чисел\n",
    "b = np.random.randint(0, 10 ,10)\n",
    "print(a)\n",
    "print(b)\n",
    "print(np.intersect1d(a, b))#пересечение множеств"
   ]
  },
  {
   "cell_type": "markdown",
   "metadata": {},
   "source": [
    "#### 31. How to ignore all numpy warnings (not recommended)? (★☆☆)"
   ]
  },
  {
   "cell_type": "code",
   "execution_count": null,
   "metadata": {
    "collapsed": true
   },
   "outputs": [],
   "source": []
  },
  {
   "cell_type": "markdown",
   "metadata": {},
   "source": [
    "#### 32. Is the following expressions true? (★☆☆)"
   ]
  },
  {
   "cell_type": "markdown",
   "metadata": {},
   "source": [
    "```python\n",
    "np.sqrt(-1) == np.emath.sqrt(-1)\n",
    "```"
   ]
  },
  {
   "cell_type": "code",
   "execution_count": 196,
   "metadata": {},
   "outputs": [
    {
     "name": "stdout",
     "output_type": "stream",
     "text": [
      "False\n",
      "nan\n",
      "1j\n"
     ]
    },
    {
     "name": "stderr",
     "output_type": "stream",
     "text": [
      "/usr/local/lib/python3.6/site-packages/ipykernel_launcher.py:1: RuntimeWarning: invalid value encountered in sqrt\n",
      "  \"\"\"Entry point for launching an IPython kernel.\n",
      "/usr/local/lib/python3.6/site-packages/ipykernel_launcher.py:2: RuntimeWarning: invalid value encountered in sqrt\n",
      "  \n"
     ]
    }
   ],
   "source": [
    "print(np.sqrt(-1) == np.emath.sqrt(-1))\n",
    "print(np.sqrt(-1))\n",
    "print(np.emath.sqrt(-1))"
   ]
  },
  {
   "cell_type": "markdown",
   "metadata": {},
   "source": [
    "#### 33. How to get the dates of yesterday, today and tomorrow? (★☆☆)"
   ]
  },
  {
   "cell_type": "code",
   "execution_count": 213,
   "metadata": {},
   "outputs": [
    {
     "name": "stdout",
     "output_type": "stream",
     "text": [
      "2018-05-17 2018-05-18 2018-05-19\n"
     ]
    }
   ],
   "source": [
    "yesterday = np.datetime64('today', 'D') - np.timedelta64(1, 'D')\n",
    "today     = np.datetime64('today', 'D')\n",
    "tomorrow  = np.datetime64('today', 'D') + np.timedelta64(1, 'D')\n",
    "print(yesterday, today, tomorrow)"
   ]
  },
  {
   "cell_type": "markdown",
   "metadata": {},
   "source": [
    "#### 34. How to get all the dates corresponding to the month of July 2016? (★★☆)"
   ]
  },
  {
   "cell_type": "code",
   "execution_count": null,
   "metadata": {
    "collapsed": true
   },
   "outputs": [],
   "source": [
    "z = np.arange('2018-06', '2018-07', dtype='datetime64[D]')\n",
    "print(z)"
   ]
  },
  {
   "cell_type": "markdown",
   "metadata": {},
   "source": [
    "#### 35. How to compute ((A+B)\\*(-A/2)) in place (without copy)? (★★☆)"
   ]
  },
  {
   "cell_type": "code",
   "execution_count": 11,
   "metadata": {},
   "outputs": [
    {
     "name": "stdout",
     "output_type": "stream",
     "text": [
      "[-1.5 -1.5 -1.5]\n"
     ]
    }
   ],
   "source": [
    "a = np.ones(3)\n",
    "b = np.ones(3) * 2\n",
    "np.add(a, b, out=b)\n",
    "np.divide(a, 2, out=a)\n",
    "np.negative(a, out=a)\n",
    "np.multiply(a, b, out=a)\n",
    "print(a)"
   ]
  },
  {
   "cell_type": "markdown",
   "metadata": {},
   "source": [
    "#### 36. Extract the integer part of a random array using 5 different methods (★★☆)"
   ]
  },
  {
   "cell_type": "code",
   "execution_count": 15,
   "metadata": {},
   "outputs": [
    {
     "name": "stdout",
     "output_type": "stream",
     "text": [
      "[ 2.51606043  3.47688793  3.52691013  0.75128346  1.97279833  1.82446201\n",
      "  4.49588623  2.88409152  7.59966482  3.33598551]\n",
      "[ 2.  3.  3.  0.  1.  1.  4.  2.  7.  3.]\n",
      "[ 2.  3.  3.  0.  1.  1.  4.  2.  7.  3.]\n",
      "[ 2.  3.  3.  0.  1.  1.  4.  2.  7.  3.]\n",
      "[2 3 3 0 1 1 4 2 7 3]\n",
      "[ 2.  3.  3.  0.  1.  1.  4.  2.  7.  3.]\n"
     ]
    }
   ],
   "source": [
    "z = np.random.uniform(0,10,10)\n",
    "print(z)\n",
    "print(z - z % 1)\n",
    "print(np.floor(z))\n",
    "print(np.ceil(z) - 1)\n",
    "print(z.astype(int))\n",
    "print(np.trunc(z))"
   ]
  },
  {
   "cell_type": "markdown",
   "metadata": {},
   "source": [
    "#### 37. Create a 5x5 matrix with row values ranging from 0 to 4 (★★☆)"
   ]
  },
  {
   "cell_type": "code",
   "execution_count": 19,
   "metadata": {},
   "outputs": [
    {
     "name": "stdout",
     "output_type": "stream",
     "text": [
      "[[ 0.  1.  2.  3.  4.]\n",
      " [ 0.  1.  2.  3.  4.]\n",
      " [ 0.  1.  2.  3.  4.]\n",
      " [ 0.  1.  2.  3.  4.]\n",
      " [ 0.  1.  2.  3.  4.]]\n"
     ]
    }
   ],
   "source": [
    "z = np.zeros((5, 5))\n",
    "z += np.arange(5)\n",
    "print(z)"
   ]
  },
  {
   "cell_type": "markdown",
   "metadata": {},
   "source": [
    "#### 38. Consider a generator function that generates 10 integers and use it to build an array (★☆☆)"
   ]
  },
  {
   "cell_type": "code",
   "execution_count": 21,
   "metadata": {},
   "outputs": [
    {
     "name": "stdout",
     "output_type": "stream",
     "text": [
      "[ 0.  1.  2.  3.  4.  5.  6.  7.  8.  9.]\n"
     ]
    }
   ],
   "source": [
    "def gen():\n",
    "    for x in range(10):\n",
    "        yield x\n",
    "z = np.fromiter(gen(), dtype=float, count=-1)\n",
    "print(z)"
   ]
  },
  {
   "cell_type": "markdown",
   "metadata": {},
   "source": [
    "#### 39. Create a vector of size 10 with values ranging from 0 to 1, both excluded (★★☆)"
   ]
  },
  {
   "cell_type": "code",
   "execution_count": 22,
   "metadata": {},
   "outputs": [
    {
     "name": "stdout",
     "output_type": "stream",
     "text": [
      "[ 0.09090909  0.18181818  0.27272727  0.36363636  0.45454545  0.54545455\n",
      "  0.63636364  0.72727273  0.81818182  0.90909091]\n"
     ]
    }
   ],
   "source": [
    "z = np.linspace(0, 1, 11, endpoint=False)[1:]\n",
    "print(z)"
   ]
  },
  {
   "cell_type": "markdown",
   "metadata": {},
   "source": [
    "#### 40. Create a random vector of size 10 and sort it (★★☆)"
   ]
  },
  {
   "cell_type": "code",
   "execution_count": 23,
   "metadata": {},
   "outputs": [
    {
     "name": "stdout",
     "output_type": "stream",
     "text": [
      "[ 0.04333149  0.1731339   0.32276804  0.35879975  0.58035179  0.61333758\n",
      "  0.66092302  0.79389825  0.84589836  0.99253736]\n"
     ]
    }
   ],
   "source": [
    "z = np.random.random(10)\n",
    "z.sort()\n",
    "print(z)"
   ]
  },
  {
   "cell_type": "markdown",
   "metadata": {},
   "source": [
    "#### 41. How to sum a small array faster than np.sum? (★★☆)"
   ]
  },
  {
   "cell_type": "code",
   "execution_count": 24,
   "metadata": {},
   "outputs": [
    {
     "data": {
      "text/plain": [
       "45"
      ]
     },
     "execution_count": 24,
     "metadata": {},
     "output_type": "execute_result"
    }
   ],
   "source": [
    "z = np.arange(10)\n",
    "np.add.reduce(z)"
   ]
  },
  {
   "cell_type": "markdown",
   "metadata": {},
   "source": [
    "#### 42. Consider two random array A and B, check if they are equal (★★☆)"
   ]
  },
  {
   "cell_type": "code",
   "execution_count": 25,
   "metadata": {},
   "outputs": [
    {
     "name": "stdout",
     "output_type": "stream",
     "text": [
      "False\n",
      "False\n"
     ]
    }
   ],
   "source": [
    "a = np.random.randint(0,2,5)\n",
    "b = np.random.randint(0,2,5)\n",
    "c = np.allclose(a, b)\n",
    "print(c)\n",
    "c = np.array_equal(a, b)\n",
    "print(c)"
   ]
  },
  {
   "cell_type": "markdown",
   "metadata": {},
   "source": [
    "#### 43. Make an array immutable (read-only) (★★☆)"
   ]
  },
  {
   "cell_type": "code",
   "execution_count": 28,
   "metadata": {},
   "outputs": [
    {
     "ename": "ValueError",
     "evalue": "assignment destination is read-only",
     "output_type": "error",
     "traceback": [
      "\u001b[0;31m---------------------------------------------------------------------------\u001b[0m",
      "\u001b[0;31mValueError\u001b[0m                                Traceback (most recent call last)",
      "\u001b[0;32m<ipython-input-28-4cfdac6695c7>\u001b[0m in \u001b[0;36m<module>\u001b[0;34m()\u001b[0m\n\u001b[1;32m      1\u001b[0m \u001b[0mz\u001b[0m \u001b[0;34m=\u001b[0m \u001b[0mnp\u001b[0m\u001b[0;34m.\u001b[0m\u001b[0mzeros\u001b[0m\u001b[0;34m(\u001b[0m\u001b[0;36m10\u001b[0m\u001b[0;34m)\u001b[0m\u001b[0;34m\u001b[0m\u001b[0m\n\u001b[1;32m      2\u001b[0m \u001b[0mz\u001b[0m\u001b[0;34m.\u001b[0m\u001b[0mflags\u001b[0m\u001b[0;34m.\u001b[0m\u001b[0mwriteable\u001b[0m \u001b[0;34m=\u001b[0m \u001b[0;32mFalse\u001b[0m\u001b[0;34m\u001b[0m\u001b[0m\n\u001b[0;32m----> 3\u001b[0;31m \u001b[0mz\u001b[0m\u001b[0;34m[\u001b[0m\u001b[0;36m0\u001b[0m\u001b[0;34m]\u001b[0m \u001b[0;34m=\u001b[0m \u001b[0;36m1\u001b[0m\u001b[0;34m\u001b[0m\u001b[0m\n\u001b[0m",
      "\u001b[0;31mValueError\u001b[0m: assignment destination is read-only"
     ]
    }
   ],
   "source": [
    "z = np.zeros(10)\n",
    "z.flags.writeable = False\n",
    "z[0] = 1"
   ]
  },
  {
   "cell_type": "markdown",
   "metadata": {},
   "source": [
    "#### 44. Consider a random 10x2 matrix representing cartesian coordinates, convert them to polar coordinates (★★☆)"
   ]
  },
  {
   "cell_type": "code",
   "execution_count": 29,
   "metadata": {},
   "outputs": [
    {
     "name": "stdout",
     "output_type": "stream",
     "text": [
      "[ 0.71037902  1.0389343   0.97936123  1.22141573  0.48663814  0.31197969\n",
      "  0.3743067   0.22496697  0.72196389  0.66982441]\n",
      "[ 1.12018194  0.42414601  0.11126248  0.65961819  1.47791711  0.61870353\n",
      "  1.26888465  0.18992128  0.7931373   0.56904139]\n"
     ]
    }
   ],
   "source": [
    "z = np.random.random((10,2))\n",
    "x, y = z[:,0], z[:,1]\n",
    "r = np.sqrt(x ** 2 + y ** 2)\n",
    "t = np.arctan2(y, x)\n",
    "print(r)\n",
    "print(t)"
   ]
  },
  {
   "cell_type": "markdown",
   "metadata": {},
   "source": [
    "#### 45. Create random vector of size 10 and replace the maximum value by 0 (★★☆)"
   ]
  },
  {
   "cell_type": "code",
   "execution_count": 30,
   "metadata": {},
   "outputs": [
    {
     "name": "stdout",
     "output_type": "stream",
     "text": [
      "[ 0.5263161   0.          0.28071207  0.42577816  0.86569392  0.51849915\n",
      "  0.49213506  0.70658241  0.20314033  0.59903359]\n"
     ]
    }
   ],
   "source": [
    "z = np.random.random(10)\n",
    "z[z.argmax()] = 0\n",
    "print(z)"
   ]
  },
  {
   "cell_type": "markdown",
   "metadata": {},
   "source": [
    "#### 46. Create a structured array with `x` and `y` coordinates covering the \\[0,1\\]x\\[0,1\\] area (★★☆)"
   ]
  },
  {
   "cell_type": "code",
   "execution_count": 33,
   "metadata": {},
   "outputs": [
    {
     "name": "stdout",
     "output_type": "stream",
     "text": [
      "[[( 0.  ,  0.  ) ( 0.25,  0.  ) ( 0.5 ,  0.  ) ( 0.75,  0.  )\n",
      "  ( 1.  ,  0.  )]\n",
      " [( 0.  ,  0.25) ( 0.25,  0.25) ( 0.5 ,  0.25) ( 0.75,  0.25)\n",
      "  ( 1.  ,  0.25)]\n",
      " [( 0.  ,  0.5 ) ( 0.25,  0.5 ) ( 0.5 ,  0.5 ) ( 0.75,  0.5 )\n",
      "  ( 1.  ,  0.5 )]\n",
      " [( 0.  ,  0.75) ( 0.25,  0.75) ( 0.5 ,  0.75) ( 0.75,  0.75)\n",
      "  ( 1.  ,  0.75)]\n",
      " [( 0.  ,  1.  ) ( 0.25,  1.  ) ( 0.5 ,  1.  ) ( 0.75,  1.  )\n",
      "  ( 1.  ,  1.  )]]\n"
     ]
    }
   ],
   "source": [
    "z = np.zeros((5, 5), [('x', float),('y', float)])\n",
    "z['x'], z['y'] = np.meshgrid(np.linspace(0, 1, 5), np.linspace(0, 1, 5))\n",
    "print(z)"
   ]
  },
  {
   "cell_type": "markdown",
   "metadata": {},
   "source": [
    "####  47. Given two arrays, X and Y, construct the Cauchy matrix C (Cij =1/(xi - yj))"
   ]
  },
  {
   "cell_type": "code",
   "execution_count": 35,
   "metadata": {},
   "outputs": [
    {
     "name": "stdout",
     "output_type": "stream",
     "text": [
      "3638.16363712\n"
     ]
    }
   ],
   "source": [
    "x = np.arange(8)\n",
    "y = x + 0.5\n",
    "c = 1.0 / np.subtract.outer(x, y)\n",
    "print(np.linalg.det(c))"
   ]
  },
  {
   "cell_type": "markdown",
   "metadata": {},
   "source": [
    "#### 48. Print the minimum and maximum representable value for each numpy scalar type (★★☆)"
   ]
  },
  {
   "cell_type": "code",
   "execution_count": 36,
   "metadata": {},
   "outputs": [
    {
     "name": "stdout",
     "output_type": "stream",
     "text": [
      "-128\n",
      "127\n",
      "-2147483648\n",
      "2147483647\n",
      "-9223372036854775808\n",
      "9223372036854775807\n",
      "-3.40282e+38\n",
      "3.40282e+38\n",
      "1.19209e-07\n",
      "-1.79769313486e+308\n",
      "1.79769313486e+308\n",
      "2.22044604925e-16\n"
     ]
    }
   ],
   "source": [
    "for dtype in [np.int8, np.int32, np.int64]:\n",
    "   print(np.iinfo(dtype).min)\n",
    "   print(np.iinfo(dtype).max)\n",
    "for dtype in [np.float32, np.float64]:\n",
    "   print(np.finfo(dtype).min)\n",
    "   print(np.finfo(dtype).max)\n",
    "   print(np.finfo(dtype).eps)"
   ]
  },
  {
   "cell_type": "markdown",
   "metadata": {},
   "source": [
    "#### 49. How to print all the values of an array? (★★☆)"
   ]
  },
  {
   "cell_type": "code",
   "execution_count": 37,
   "metadata": {},
   "outputs": [
    {
     "name": "stdout",
     "output_type": "stream",
     "text": [
      "[[ 0.  0.  0.  0.  0.  0.  0.  0.  0.  0.  0.  0.  0.  0.  0.  0.]\n",
      " [ 0.  0.  0.  0.  0.  0.  0.  0.  0.  0.  0.  0.  0.  0.  0.  0.]\n",
      " [ 0.  0.  0.  0.  0.  0.  0.  0.  0.  0.  0.  0.  0.  0.  0.  0.]\n",
      " [ 0.  0.  0.  0.  0.  0.  0.  0.  0.  0.  0.  0.  0.  0.  0.  0.]\n",
      " [ 0.  0.  0.  0.  0.  0.  0.  0.  0.  0.  0.  0.  0.  0.  0.  0.]\n",
      " [ 0.  0.  0.  0.  0.  0.  0.  0.  0.  0.  0.  0.  0.  0.  0.  0.]\n",
      " [ 0.  0.  0.  0.  0.  0.  0.  0.  0.  0.  0.  0.  0.  0.  0.  0.]\n",
      " [ 0.  0.  0.  0.  0.  0.  0.  0.  0.  0.  0.  0.  0.  0.  0.  0.]\n",
      " [ 0.  0.  0.  0.  0.  0.  0.  0.  0.  0.  0.  0.  0.  0.  0.  0.]\n",
      " [ 0.  0.  0.  0.  0.  0.  0.  0.  0.  0.  0.  0.  0.  0.  0.  0.]\n",
      " [ 0.  0.  0.  0.  0.  0.  0.  0.  0.  0.  0.  0.  0.  0.  0.  0.]\n",
      " [ 0.  0.  0.  0.  0.  0.  0.  0.  0.  0.  0.  0.  0.  0.  0.  0.]\n",
      " [ 0.  0.  0.  0.  0.  0.  0.  0.  0.  0.  0.  0.  0.  0.  0.  0.]\n",
      " [ 0.  0.  0.  0.  0.  0.  0.  0.  0.  0.  0.  0.  0.  0.  0.  0.]\n",
      " [ 0.  0.  0.  0.  0.  0.  0.  0.  0.  0.  0.  0.  0.  0.  0.  0.]\n",
      " [ 0.  0.  0.  0.  0.  0.  0.  0.  0.  0.  0.  0.  0.  0.  0.  0.]]\n"
     ]
    }
   ],
   "source": [
    "np.set_printoptions(threshold=np.nan)\n",
    "z = np.zeros((16, 16))\n",
    "print(z)"
   ]
  },
  {
   "cell_type": "markdown",
   "metadata": {},
   "source": [
    "#### 50. How to find the closest value (to a given scalar) in a vector? (★★☆)"
   ]
  },
  {
   "cell_type": "code",
   "execution_count": 41,
   "metadata": {},
   "outputs": [
    {
     "name": "stdout",
     "output_type": "stream",
     "text": [
      "56\n"
     ]
    }
   ],
   "source": [
    "z = np.arange(100)\n",
    "v = np.random.uniform(0,100)\n",
    "ind = (np.abs(z-v)).argmin()\n",
    "print(z[ind])"
   ]
  },
  {
   "cell_type": "markdown",
   "metadata": {},
   "source": [
    "#### 51. Create a structured array representing a position (x,y) and a color (r,g,b) (★★☆)"
   ]
  },
  {
   "cell_type": "code",
   "execution_count": 42,
   "metadata": {},
   "outputs": [
    {
     "name": "stdout",
     "output_type": "stream",
     "text": [
      "[(( 0.,  0.), ( 0.,  0.,  0.)) (( 0.,  0.), ( 0.,  0.,  0.))\n",
      " (( 0.,  0.), ( 0.,  0.,  0.)) (( 0.,  0.), ( 0.,  0.,  0.))\n",
      " (( 0.,  0.), ( 0.,  0.,  0.)) (( 0.,  0.), ( 0.,  0.,  0.))\n",
      " (( 0.,  0.), ( 0.,  0.,  0.)) (( 0.,  0.), ( 0.,  0.,  0.))\n",
      " (( 0.,  0.), ( 0.,  0.,  0.)) (( 0.,  0.), ( 0.,  0.,  0.))]\n"
     ]
    }
   ],
   "source": [
    "z = np.zeros(10, [ ('position', [ ('x', float, 1),\n",
    "                                  ('y', float, 1)]),\n",
    "                   ('color',    [ ('r', float, 1),\n",
    "                                  ('g', float, 1),\n",
    "                                  ('b', float, 1)])])\n",
    "print(z)"
   ]
  },
  {
   "cell_type": "markdown",
   "metadata": {},
   "source": [
    "#### 52. Consider a random vector with shape (100,2) representing coordinates, find point by point distances (★★☆)"
   ]
  },
  {
   "cell_type": "code",
   "execution_count": 43,
   "metadata": {},
   "outputs": [
    {
     "name": "stdout",
     "output_type": "stream",
     "text": [
      "[[ 0.          0.4069219   0.1293898   0.72107744  0.59657716  0.31148963\n",
      "   0.77799725  0.95196101  0.28358439  0.2728573 ]\n",
      " [ 0.4069219   0.          0.42929991  0.62342131  0.29109318  0.52667903\n",
      "   0.37346898  0.56616647  0.45864035  0.30719558]\n",
      " [ 0.1293898   0.42929991  0.          0.61443457  0.66533289  0.18227338\n",
      "   0.80054482  0.9312727   0.15774003  0.38124248]\n",
      " [ 0.72107744  0.62342131  0.61443457  0.          0.89915827  0.49335207\n",
      "   0.79484524  0.68071576  0.46890078  0.84853756]\n",
      " [ 0.59657716  0.29109318  0.66533289  0.89915827  0.          0.79654516\n",
      "   0.31320835  0.6265408   0.73165803  0.36181837]\n",
      " [ 0.31148963  0.52667903  0.18227338  0.49335207  0.79654516  0.\n",
      "   0.87564866  0.94453268  0.06919335  0.55322797]\n",
      " [ 0.77799725  0.37346898  0.80054482  0.79484524  0.31320835  0.87564866\n",
      "   0.          0.32607423  0.80648     0.61480527]\n",
      " [ 0.95196101  0.56616647  0.9312727   0.68071576  0.6265408   0.94453268\n",
      "   0.32607423  0.          0.88059189  0.86372802]\n",
      " [ 0.28358439  0.45864035  0.15774003  0.46890078  0.73165803  0.06919335\n",
      "   0.80648     0.88059189  0.          0.5045727 ]\n",
      " [ 0.2728573   0.30719558  0.38124248  0.84853756  0.36181837  0.55322797\n",
      "   0.61480527  0.86372802  0.5045727   0.        ]]\n",
      "[[ 0.          0.28804074  0.59675268  0.57962115  0.85776243  0.91433304\n",
      "   0.65561657  0.19469379  1.02698784  0.94636148]\n",
      " [ 0.28804074  0.          0.36340012  0.38712     0.65526954  0.81671499\n",
      "   0.74183648  0.15571943  0.78167637  0.76953779]\n",
      " [ 0.59675268  0.36340012  0.          0.09965042  0.2964292   0.5429561\n",
      "   0.71068637  0.40268648  0.43026448  0.42227523]\n",
      " [ 0.57962115  0.38712     0.09965042  0.          0.27892354  0.46067124\n",
      "   0.6154628   0.38642338  0.46419297  0.38303072]\n",
      " [ 0.85776243  0.65526954  0.2964292   0.27892354  0.          0.36383912\n",
      "   0.75131752  0.66521567  0.24585075  0.13956031]\n",
      " [ 0.91433304  0.81671499  0.5429561   0.46067124  0.36383912  0.\n",
      "   0.52455737  0.75395014  0.58278323  0.26973942]\n",
      " [ 0.65561657  0.74183648  0.71068637  0.6154628   0.75131752  0.52455737\n",
      "   0.          0.60050024  0.99655125  0.73599186]\n",
      " [ 0.19469379  0.15571943  0.40268648  0.38642338  0.66521567  0.75395014\n",
      "   0.60050024  0.          0.83271948  0.75928126]\n",
      " [ 1.02698784  0.78167637  0.43026448  0.46419297  0.24585075  0.58278323\n",
      "   0.99655125  0.83271948  0.          0.31493879]\n",
      " [ 0.94636148  0.76953779  0.42227523  0.38303072  0.13956031  0.26973942\n",
      "   0.73599186  0.75928126  0.31493879  0.        ]]\n"
     ]
    }
   ],
   "source": [
    "z = np.random.random((10, 2))\n",
    "x, y = np.atleast_2d(z[:,0], z[:,1])\n",
    "d = np.sqrt( (x - x.T) ** 2 + (y - y.T) ** 2)\n",
    "print(d)\n",
    "import scipy\n",
    "import scipy.spatial\n",
    "z = np.random.random((10, 2))\n",
    "d = scipy.spatial.distance.cdist(z, z)\n",
    "print(d)"
   ]
  },
  {
   "cell_type": "markdown",
   "metadata": {},
   "source": [
    "#### 53. How to convert a float (32 bits) array into an integer (32 bits) in place?"
   ]
  },
  {
   "cell_type": "code",
   "execution_count": 44,
   "metadata": {},
   "outputs": [
    {
     "name": "stdout",
     "output_type": "stream",
     "text": [
      "[0 1 2 3 4 5 6 7 8 9]\n"
     ]
    }
   ],
   "source": [
    "z = np.arange(10, dtype=np.float32)\n",
    "z = z.astype(np.int32, copy=False)\n",
    "print(z)"
   ]
  },
  {
   "cell_type": "markdown",
   "metadata": {},
   "source": [
    "#### 54. How to read the following file? (★★☆)"
   ]
  },
  {
   "cell_type": "markdown",
   "metadata": {},
   "source": [
    "```\n",
    "1, 2, 3, 4, 5\n",
    "6,  ,  , 7, 8\n",
    " ,  , 9,10,11\n",
    "```"
   ]
  },
  {
   "cell_type": "code",
   "execution_count": 45,
   "metadata": {},
   "outputs": [
    {
     "ename": "TypeError",
     "evalue": "must be str or None, not bytes",
     "output_type": "error",
     "traceback": [
      "\u001b[0;31m---------------------------------------------------------------------------\u001b[0m",
      "\u001b[0;31mTypeError\u001b[0m                                 Traceback (most recent call last)",
      "\u001b[0;32m<ipython-input-45-80f61764e070>\u001b[0m in \u001b[0;36m<module>\u001b[0;34m()\u001b[0m\n\u001b[1;32m      3\u001b[0m                 \u001b[0;36m6\u001b[0m\u001b[0;34m,\u001b[0m  \u001b[0;34m,\u001b[0m  \u001b[0;34m,\u001b[0m \u001b[0;36m7\u001b[0m\u001b[0;34m,\u001b[0m \u001b[0;36m8\u001b[0m\u001b[0;31m\\\u001b[0m\u001b[0mn\u001b[0m\u001b[0;34m\u001b[0m\u001b[0m\n\u001b[1;32m      4\u001b[0m                  ,  , 9,10,11\\n\"\"\")\n\u001b[0;32m----> 5\u001b[0;31m \u001b[0mz\u001b[0m \u001b[0;34m=\u001b[0m \u001b[0mnp\u001b[0m\u001b[0;34m.\u001b[0m\u001b[0mgenfromtxt\u001b[0m\u001b[0;34m(\u001b[0m\u001b[0ms\u001b[0m\u001b[0;34m,\u001b[0m \u001b[0mdelimiter\u001b[0m\u001b[0;34m=\u001b[0m\u001b[0;34m\",\"\u001b[0m\u001b[0;34m,\u001b[0m \u001b[0mdtype\u001b[0m\u001b[0;34m=\u001b[0m\u001b[0mnp\u001b[0m\u001b[0;34m.\u001b[0m\u001b[0mint\u001b[0m\u001b[0;34m)\u001b[0m\u001b[0;34m\u001b[0m\u001b[0m\n\u001b[0m\u001b[1;32m      6\u001b[0m \u001b[0mprint\u001b[0m\u001b[0;34m(\u001b[0m\u001b[0mz\u001b[0m\u001b[0;34m)\u001b[0m\u001b[0;34m\u001b[0m\u001b[0m\n",
      "\u001b[0;32m/usr/local/lib/python3.6/site-packages/numpy/lib/npyio.py\u001b[0m in \u001b[0;36mgenfromtxt\u001b[0;34m(fname, dtype, comments, delimiter, skip_header, skip_footer, converters, missing_values, filling_values, usecols, names, excludelist, deletechars, replace_space, autostrip, case_sensitive, defaultfmt, unpack, usemask, loose, invalid_raise, max_rows)\u001b[0m\n\u001b[1;32m   1578\u001b[0m                     first_line = (\n\u001b[1;32m   1579\u001b[0m                         b''.join(first_line.split(comments)[1:]))\n\u001b[0;32m-> 1580\u001b[0;31m             \u001b[0mfirst_values\u001b[0m \u001b[0;34m=\u001b[0m \u001b[0msplit_line\u001b[0m\u001b[0;34m(\u001b[0m\u001b[0mfirst_line\u001b[0m\u001b[0;34m)\u001b[0m\u001b[0;34m\u001b[0m\u001b[0m\n\u001b[0m\u001b[1;32m   1581\u001b[0m     \u001b[0;32mexcept\u001b[0m \u001b[0mStopIteration\u001b[0m\u001b[0;34m:\u001b[0m\u001b[0;34m\u001b[0m\u001b[0m\n\u001b[1;32m   1582\u001b[0m         \u001b[0;31m# return an empty array if the datafile is empty\u001b[0m\u001b[0;34m\u001b[0m\u001b[0;34m\u001b[0m\u001b[0m\n",
      "\u001b[0;32m/usr/local/lib/python3.6/site-packages/numpy/lib/_iotools.py\u001b[0m in \u001b[0;36m_delimited_splitter\u001b[0;34m(self, line)\u001b[0m\n\u001b[1;32m    218\u001b[0m     \u001b[0;32mdef\u001b[0m \u001b[0m_delimited_splitter\u001b[0m\u001b[0;34m(\u001b[0m\u001b[0mself\u001b[0m\u001b[0;34m,\u001b[0m \u001b[0mline\u001b[0m\u001b[0;34m)\u001b[0m\u001b[0;34m:\u001b[0m\u001b[0;34m\u001b[0m\u001b[0m\n\u001b[1;32m    219\u001b[0m         \u001b[0;32mif\u001b[0m \u001b[0mself\u001b[0m\u001b[0;34m.\u001b[0m\u001b[0mcomments\u001b[0m \u001b[0;32mis\u001b[0m \u001b[0;32mnot\u001b[0m \u001b[0;32mNone\u001b[0m\u001b[0;34m:\u001b[0m\u001b[0;34m\u001b[0m\u001b[0m\n\u001b[0;32m--> 220\u001b[0;31m             \u001b[0mline\u001b[0m \u001b[0;34m=\u001b[0m \u001b[0mline\u001b[0m\u001b[0;34m.\u001b[0m\u001b[0msplit\u001b[0m\u001b[0;34m(\u001b[0m\u001b[0mself\u001b[0m\u001b[0;34m.\u001b[0m\u001b[0mcomments\u001b[0m\u001b[0;34m)\u001b[0m\u001b[0;34m[\u001b[0m\u001b[0;36m0\u001b[0m\u001b[0;34m]\u001b[0m\u001b[0;34m\u001b[0m\u001b[0m\n\u001b[0m\u001b[1;32m    221\u001b[0m         \u001b[0mline\u001b[0m \u001b[0;34m=\u001b[0m \u001b[0mline\u001b[0m\u001b[0;34m.\u001b[0m\u001b[0mstrip\u001b[0m\u001b[0;34m(\u001b[0m\u001b[0;34mb\" \\r\\n\"\u001b[0m\u001b[0;34m)\u001b[0m\u001b[0;34m\u001b[0m\u001b[0m\n\u001b[1;32m    222\u001b[0m         \u001b[0;32mif\u001b[0m \u001b[0;32mnot\u001b[0m \u001b[0mline\u001b[0m\u001b[0;34m:\u001b[0m\u001b[0;34m\u001b[0m\u001b[0m\n",
      "\u001b[0;31mTypeError\u001b[0m: must be str or None, not bytes"
     ]
    }
   ],
   "source": [
    "from io import StringIO\n",
    "s = StringIO(\"\"\"1, 2, 3, 4, 5\\n\n",
    "                6,  ,  , 7, 8\\n\n",
    "                 ,  , 9,10,11\\n\"\"\")\n",
    "z = np.genfromtxt(s, delimiter=\",\", dtype=np.int)\n",
    "print(z)"
   ]
  },
  {
   "cell_type": "markdown",
   "metadata": {},
   "source": [
    "#### 55. What is the equivalent of enumerate for numpy arrays? (★★☆)"
   ]
  },
  {
   "cell_type": "code",
   "execution_count": 46,
   "metadata": {},
   "outputs": [
    {
     "name": "stdout",
     "output_type": "stream",
     "text": [
      "(0, 0) 0\n",
      "(0, 1) 1\n",
      "(0, 2) 2\n",
      "(1, 0) 3\n",
      "(1, 1) 4\n",
      "(1, 2) 5\n",
      "(2, 0) 6\n",
      "(2, 1) 7\n",
      "(2, 2) 8\n",
      "(0, 0) 0\n",
      "(0, 1) 1\n",
      "(0, 2) 2\n",
      "(1, 0) 3\n",
      "(1, 1) 4\n",
      "(1, 2) 5\n",
      "(2, 0) 6\n",
      "(2, 1) 7\n",
      "(2, 2) 8\n"
     ]
    }
   ],
   "source": [
    "z = np.arange(9).reshape(3, 3)\n",
    "for index, value in np.ndenumerate(z):\n",
    "    print(index, value)\n",
    "for index in np.ndindex(z.shape):\n",
    "    print(index, z[index])"
   ]
  },
  {
   "cell_type": "markdown",
   "metadata": {},
   "source": [
    "#### 56. Generate a generic 2D Gaussian-like array (★★☆)"
   ]
  },
  {
   "cell_type": "code",
   "execution_count": 48,
   "metadata": {},
   "outputs": [
    {
     "name": "stdout",
     "output_type": "stream",
     "text": [
      "[[ 0.36787944  0.44822088  0.51979489  0.57375342  0.60279818  0.60279818\n",
      "   0.57375342  0.51979489  0.44822088  0.36787944]\n",
      " [ 0.44822088  0.54610814  0.63331324  0.69905581  0.73444367  0.73444367\n",
      "   0.69905581  0.63331324  0.54610814  0.44822088]\n",
      " [ 0.51979489  0.63331324  0.73444367  0.81068432  0.85172308  0.85172308\n",
      "   0.81068432  0.73444367  0.63331324  0.51979489]\n",
      " [ 0.57375342  0.69905581  0.81068432  0.89483932  0.9401382   0.9401382\n",
      "   0.89483932  0.81068432  0.69905581  0.57375342]\n",
      " [ 0.60279818  0.73444367  0.85172308  0.9401382   0.98773022  0.98773022\n",
      "   0.9401382   0.85172308  0.73444367  0.60279818]\n",
      " [ 0.60279818  0.73444367  0.85172308  0.9401382   0.98773022  0.98773022\n",
      "   0.9401382   0.85172308  0.73444367  0.60279818]\n",
      " [ 0.57375342  0.69905581  0.81068432  0.89483932  0.9401382   0.9401382\n",
      "   0.89483932  0.81068432  0.69905581  0.57375342]\n",
      " [ 0.51979489  0.63331324  0.73444367  0.81068432  0.85172308  0.85172308\n",
      "   0.81068432  0.73444367  0.63331324  0.51979489]\n",
      " [ 0.44822088  0.54610814  0.63331324  0.69905581  0.73444367  0.73444367\n",
      "   0.69905581  0.63331324  0.54610814  0.44822088]\n",
      " [ 0.36787944  0.44822088  0.51979489  0.57375342  0.60279818  0.60279818\n",
      "   0.57375342  0.51979489  0.44822088  0.36787944]]\n"
     ]
    }
   ],
   "source": [
    "x, y = np.meshgrid(np.linspace(-1, 1, 10), np.linspace(-1, 1, 10))\n",
    "d = np.sqrt(x * x + y * y)\n",
    "sigma, mu = 1.0, 0.0\n",
    "g = np.exp(-((d - mu) ** 2 / (2.0 * sigma ** 2)))\n",
    "print(g)"
   ]
  },
  {
   "cell_type": "markdown",
   "metadata": {},
   "source": [
    "#### 57. How to randomly place p elements in a 2D array? (★★☆)"
   ]
  },
  {
   "cell_type": "code",
   "execution_count": 49,
   "metadata": {},
   "outputs": [
    {
     "name": "stdout",
     "output_type": "stream",
     "text": [
      "[[ 0.  0.  0.  0.  0.  0.  0.  0.  0.  0.]\n",
      " [ 0.  0.  0.  0.  0.  0.  0.  0.  0.  0.]\n",
      " [ 0.  0.  0.  0.  0.  0.  0.  1.  0.  0.]\n",
      " [ 0.  0.  0.  0.  0.  0.  0.  0.  0.  0.]\n",
      " [ 0.  0.  0.  0.  0.  0.  0.  0.  0.  0.]\n",
      " [ 0.  0.  0.  0.  0.  0.  0.  0.  0.  0.]\n",
      " [ 0.  0.  0.  1.  0.  0.  0.  0.  0.  0.]\n",
      " [ 0.  0.  0.  0.  0.  0.  0.  0.  0.  0.]\n",
      " [ 0.  0.  1.  0.  0.  0.  0.  0.  0.  0.]\n",
      " [ 0.  0.  0.  0.  0.  0.  0.  0.  0.  0.]]\n"
     ]
    }
   ],
   "source": [
    "n = 10\n",
    "p = 3\n",
    "z = np.zeros((n, n))\n",
    "np.put(z, np.random.choice(range(n * n), p, replace=False), 1)\n",
    "print(z)"
   ]
  },
  {
   "cell_type": "markdown",
   "metadata": {},
   "source": [
    "#### 58. Subtract the mean of each row of a matrix (★★☆)"
   ]
  },
  {
   "cell_type": "code",
   "execution_count": 50,
   "metadata": {},
   "outputs": [
    {
     "name": "stdout",
     "output_type": "stream",
     "text": [
      "[[  4.29821991e-01   3.71726951e-01  -3.39067010e-01  -2.83449832e-01\n",
      "    3.34878300e-01   4.31335839e-01  -2.64510251e-01  -5.22677108e-01\n",
      "    1.00399510e-01  -2.58458390e-01]\n",
      " [ -1.39837724e-01  -2.29020588e-01   4.42885109e-01  -1.28374227e-01\n",
      "    1.95192500e-01   8.57805045e-03   8.67912850e-02  -1.01086320e-02\n",
      "   -1.70724702e-01  -5.53810709e-02]\n",
      " [  5.74459468e-02  -1.91304634e-01   4.65698159e-02  -5.31080719e-02\n",
      "    2.42209470e-01  -3.75800593e-01   1.26097353e-01  -5.04298894e-02\n",
      "    1.98618916e-01  -2.98312805e-04]\n",
      " [ -1.85020764e-01  -3.45465087e-01  -1.84409003e-01   4.38620861e-02\n",
      "   -4.14478008e-01   2.68548516e-01   4.87875397e-01  -1.03564587e-01\n",
      "   -9.78254648e-02   5.30476915e-01]\n",
      " [ -2.84617604e-01   4.57647690e-01   4.65955117e-01  -3.18133562e-01\n",
      "    3.57862228e-01  -2.50923476e-01   1.35133591e-01  -3.13427426e-01\n",
      "   -1.74116558e-01  -7.53800003e-02]]\n"
     ]
    }
   ],
   "source": [
    "x = np.random.rand(5, 10)\n",
    "y = x - x.mean(axis=1, keepdims=True)\n",
    "y = x - x.mean(axis=1).reshape(-1, 1)\n",
    "print(y)"
   ]
  },
  {
   "cell_type": "markdown",
   "metadata": {},
   "source": [
    "#### 59. How to sort an array by the nth column? (★★☆)"
   ]
  },
  {
   "cell_type": "code",
   "execution_count": 51,
   "metadata": {},
   "outputs": [
    {
     "name": "stdout",
     "output_type": "stream",
     "text": [
      "[[5 0 1]\n",
      " [1 2 2]\n",
      " [8 1 7]]\n",
      "[[5 0 1]\n",
      " [8 1 7]\n",
      " [1 2 2]]\n"
     ]
    }
   ],
   "source": [
    "z = np.random.randint(0, 10, (3, 3))\n",
    "print(z)\n",
    "print(z[z[:,1].argsort()])"
   ]
  },
  {
   "cell_type": "markdown",
   "metadata": {},
   "source": [
    "#### 60. How to tell if a given 2D array has null columns? (★★☆)"
   ]
  },
  {
   "cell_type": "code",
   "execution_count": 52,
   "metadata": {},
   "outputs": [
    {
     "name": "stdout",
     "output_type": "stream",
     "text": [
      "False\n"
     ]
    }
   ],
   "source": [
    "z = np.random.randint(0, 3, (3, 10))\n",
    "print((~z.any(axis=0)).any())"
   ]
  },
  {
   "cell_type": "markdown",
   "metadata": {},
   "source": [
    "#### 61. Find the nearest value from a given value in an array (★★☆)"
   ]
  },
  {
   "cell_type": "code",
   "execution_count": 53,
   "metadata": {},
   "outputs": [
    {
     "name": "stdout",
     "output_type": "stream",
     "text": [
      "0.538271603947\n"
     ]
    }
   ],
   "source": [
    "z = np.random.uniform(0, 1, 10)\n",
    "k = 0.5\n",
    "m = z.flat[np.abs(z - k).argmin()]\n",
    "print(m)"
   ]
  },
  {
   "cell_type": "markdown",
   "metadata": {},
   "source": [
    "#### 62. Considering two arrays with shape (1,3) and (3,1), how to compute their sum using an iterator? (★★☆)"
   ]
  },
  {
   "cell_type": "code",
   "execution_count": 54,
   "metadata": {},
   "outputs": [
    {
     "name": "stdout",
     "output_type": "stream",
     "text": [
      "[[0 1 2]\n",
      " [1 2 3]\n",
      " [2 3 4]]\n"
     ]
    }
   ],
   "source": [
    "a = np.arange(3).reshape(3, 1)\n",
    "b = np.arange(3).reshape(1, 3)\n",
    "it = np.nditer([a, b, None])\n",
    "for x, y, z in it: z[...] = x + y\n",
    "print(it.operands[2])"
   ]
  },
  {
   "cell_type": "markdown",
   "metadata": {},
   "source": [
    "#### 63. Create an array class that has a name attribute (★★☆)"
   ]
  },
  {
   "cell_type": "code",
   "execution_count": 55,
   "metadata": {},
   "outputs": [
    {
     "name": "stdout",
     "output_type": "stream",
     "text": [
      "range_10\n"
     ]
    }
   ],
   "source": [
    "class Narr(np.ndarray):\n",
    "    def __new__(cls, array, name=\"no name\"):\n",
    "        obj = np.asarray(array).view(cls)\n",
    "        obj.name = name\n",
    "        return obj\n",
    "    def __array_finalize__(self, obj):\n",
    "        if obj is None: return\n",
    "        self.info = getattr(obj, 'name', \"no name\")\n",
    "\n",
    "z = Narr(np.arange(10), \"range_10\")\n",
    "print(z.name)"
   ]
  },
  {
   "cell_type": "markdown",
   "metadata": {},
   "source": [
    "#### 64. Consider a given vector, how to add 1 to each element indexed by a second vector (be careful with repeated indices)? (★★★)"
   ]
  },
  {
   "cell_type": "code",
   "execution_count": 56,
   "metadata": {},
   "outputs": [
    {
     "name": "stdout",
     "output_type": "stream",
     "text": [
      "[ 3.  4.  2.  1.  6.  2.  1.  4.  2.  5.]\n",
      "[  5.   7.   3.   1.  11.   3.   1.   7.   3.   9.]\n"
     ]
    }
   ],
   "source": [
    "z = np.ones(10)\n",
    "i = np.random.randint(0, len(z), 20)\n",
    "z += np.bincount(i, minlength=len(z))\n",
    "print(z)\n",
    "np.add.at(z, i, 1)\n",
    "print(z)"
   ]
  },
  {
   "cell_type": "markdown",
   "metadata": {},
   "source": [
    "#### 65. How to accumulate elements of a vector (X) to an array (F) based on an index list (I)? (★★★)"
   ]
  },
  {
   "cell_type": "code",
   "execution_count": 57,
   "metadata": {},
   "outputs": [
    {
     "name": "stdout",
     "output_type": "stream",
     "text": [
      "[ 0.  7.  0.  6.  5.  0.  0.  0.  0.  3.]\n"
     ]
    }
   ],
   "source": [
    "x = [1,2,3,4,5,6]\n",
    "i = [1,3,9,3,4,1]\n",
    "f = np.bincount(i, x)\n",
    "print(f)"
   ]
  },
  {
   "cell_type": "markdown",
   "metadata": {},
   "source": [
    "#### 66. Considering a (w,h,3) image of (dtype=ubyte), compute the number of unique colors (★★★)"
   ]
  },
  {
   "cell_type": "code",
   "execution_count": 59,
   "metadata": {},
   "outputs": [
    {
     "name": "stdout",
     "output_type": "stream",
     "text": [
      "8\n"
     ]
    }
   ],
   "source": [
    "w, h = 16, 16\n",
    "i = np.random.randint(0, 2, (h, w, 3)).astype(np.ubyte)\n",
    "f = i[...,0] * (256 * 256) + i[...,1] * 256 + i[...,2]\n",
    "n = len(np.unique(f))\n",
    "print(n)"
   ]
  },
  {
   "cell_type": "markdown",
   "metadata": {},
   "source": [
    "#### 67. Considering a four dimensions array, how to get sum over the last two axis at once? (★★★)"
   ]
  },
  {
   "cell_type": "code",
   "execution_count": 60,
   "metadata": {},
   "outputs": [
    {
     "name": "stdout",
     "output_type": "stream",
     "text": [
      "[[65 49 62 58]\n",
      " [45 75 45 56]\n",
      " [65 45 59 71]]\n",
      "[[65 49 62 58]\n",
      " [45 75 45 56]\n",
      " [65 45 59 71]]\n"
     ]
    }
   ],
   "source": [
    "a = np.random.randint(0, 10, (3, 4, 3, 4))\n",
    "sum = a.sum(axis=(-2, -1))\n",
    "print(sum)\n",
    "sum = a.reshape(a.shape[:-2] + (-1,)).sum(axis=-1)\n",
    "print(sum)"
   ]
  },
  {
   "cell_type": "markdown",
   "metadata": {},
   "source": [
    "#### 68. Considering a one-dimensional vector D, how to compute means of subsets of D using a vector S of same size describing subset  indices? (★★★)"
   ]
  },
  {
   "cell_type": "code",
   "execution_count": 63,
   "metadata": {},
   "outputs": [
    {
     "name": "stdout",
     "output_type": "stream",
     "text": [
      "[ 0.42816207  0.50801292  0.37146373  0.3907794   0.58264473  0.33676938\n",
      "  0.43180775  0.42358585  0.48518902  0.48148626]\n",
      "0    0.428162\n",
      "1    0.508013\n",
      "2    0.371464\n",
      "3    0.390779\n",
      "4    0.582645\n",
      "5    0.336769\n",
      "6    0.431808\n",
      "7    0.423586\n",
      "8    0.485189\n",
      "9    0.481486\n",
      "dtype: float64\n"
     ]
    }
   ],
   "source": [
    "d = np.random.uniform(0,1,100)\n",
    "s = np.random.randint(0,10,100)\n",
    "d_sums = np.bincount(s, weights=d)\n",
    "d_counts = np.bincount(s)\n",
    "d_means = d_sums / d_counts\n",
    "print(d_means)\n",
    "import pandas as pd\n",
    "print(pd.Series(d).groupby(s).mean())"
   ]
  },
  {
   "cell_type": "markdown",
   "metadata": {},
   "source": [
    "#### 69. How to get the diagonal of a dot product? (★★★)"
   ]
  },
  {
   "cell_type": "code",
   "execution_count": 64,
   "metadata": {},
   "outputs": [
    {
     "data": {
      "text/plain": [
       "array([ 0.71006384,  2.32997387,  1.66339267,  1.16929895,  1.01714142])"
      ]
     },
     "execution_count": 64,
     "metadata": {},
     "output_type": "execute_result"
    }
   ],
   "source": [
    "a = np.random.uniform(0, 1, (5, 5))\n",
    "b = np.random.uniform(0, 1, (5, 5))\n",
    "\n",
    "# Slow version  \n",
    "np.diag(np.dot(a, b))\n",
    "\n",
    "# Fast version\n",
    "np.sum(a * b.T, axis=1)\n",
    "\n",
    "# Faster version\n",
    "np.einsum(\"ij,ji->i\", a, b)"
   ]
  },
  {
   "cell_type": "markdown",
   "metadata": {},
   "source": [
    "#### 70. Consider the vector \\[1, 2, 3, 4, 5\\], how to build a new vector with 3 consecutive zeros interleaved between each value? (★★★)"
   ]
  },
  {
   "cell_type": "code",
   "execution_count": 65,
   "metadata": {},
   "outputs": [
    {
     "name": "stdout",
     "output_type": "stream",
     "text": [
      "[ 1.  0.  0.  0.  2.  0.  0.  0.  3.  0.  0.  0.  4.  0.  0.  0.  5.]\n"
     ]
    }
   ],
   "source": [
    "z = np.array([1, 2, 3, 4, 5])\n",
    "nz = 3\n",
    "z0 = np.zeros(len(z) + (len(z) - 1) * (nz))\n",
    "z0[::nz + 1] = z\n",
    "print(z0)"
   ]
  },
  {
   "cell_type": "markdown",
   "metadata": {},
   "source": [
    "#### 71. Consider an array of dimension (5,5,3), how to mulitply it by an array with dimensions (5,5)? (★★★)"
   ]
  },
  {
   "cell_type": "code",
   "execution_count": 66,
   "metadata": {},
   "outputs": [
    {
     "name": "stdout",
     "output_type": "stream",
     "text": [
      "[[[ 2.  2.  2.]\n",
      "  [ 2.  2.  2.]\n",
      "  [ 2.  2.  2.]\n",
      "  [ 2.  2.  2.]\n",
      "  [ 2.  2.  2.]]\n",
      "\n",
      " [[ 2.  2.  2.]\n",
      "  [ 2.  2.  2.]\n",
      "  [ 2.  2.  2.]\n",
      "  [ 2.  2.  2.]\n",
      "  [ 2.  2.  2.]]\n",
      "\n",
      " [[ 2.  2.  2.]\n",
      "  [ 2.  2.  2.]\n",
      "  [ 2.  2.  2.]\n",
      "  [ 2.  2.  2.]\n",
      "  [ 2.  2.  2.]]\n",
      "\n",
      " [[ 2.  2.  2.]\n",
      "  [ 2.  2.  2.]\n",
      "  [ 2.  2.  2.]\n",
      "  [ 2.  2.  2.]\n",
      "  [ 2.  2.  2.]]\n",
      "\n",
      " [[ 2.  2.  2.]\n",
      "  [ 2.  2.  2.]\n",
      "  [ 2.  2.  2.]\n",
      "  [ 2.  2.  2.]\n",
      "  [ 2.  2.  2.]]]\n"
     ]
    }
   ],
   "source": [
    "a = np.ones((5, 5, 3))\n",
    "b = 2 * np.ones((5, 5))\n",
    "print(a * b[:,:,None])"
   ]
  },
  {
   "cell_type": "markdown",
   "metadata": {},
   "source": [
    "#### 72. How to swap two rows of an array? (★★★)"
   ]
  },
  {
   "cell_type": "code",
   "execution_count": 67,
   "metadata": {},
   "outputs": [
    {
     "name": "stdout",
     "output_type": "stream",
     "text": [
      "[[ 5  6  7  8  9]\n",
      " [ 0  1  2  3  4]\n",
      " [10 11 12 13 14]\n",
      " [15 16 17 18 19]\n",
      " [20 21 22 23 24]]\n"
     ]
    }
   ],
   "source": [
    "a = np.arange(25).reshape(5, 5)\n",
    "a[[0,1]] = a[[1,0]]\n",
    "print(a)"
   ]
  },
  {
   "cell_type": "markdown",
   "metadata": {},
   "source": [
    "#### 73. Consider a set of 10 triplets describing 10 triangles (with shared vertices), find the set of unique line segments composing all the  triangles (★★★)"
   ]
  },
  {
   "cell_type": "code",
   "execution_count": 68,
   "metadata": {},
   "outputs": [
    {
     "name": "stdout",
     "output_type": "stream",
     "text": [
      "[( 6, 70) ( 6, 85) ( 9, 10) ( 9, 15) (10, 15) (12, 20) (12, 66) (17, 41)\n",
      " (17, 68) (19, 28) (19, 90) (20, 40) (20, 66) (20, 86) (28, 90) (31, 51)\n",
      " (31, 96) (40, 86) (41, 68) (47, 71) (47, 75) (51, 96) (58, 81) (58, 92)\n",
      " (70, 85) (71, 75) (71, 88) (71, 98) (81, 92) (88, 98)]\n"
     ]
    }
   ],
   "source": [
    "faces = np.random.randint(0, 100, (10, 3))\n",
    "f = np.roll(faces.repeat(2, axis=1), -1, axis=1)\n",
    "f = f.reshape(len(f)*3,2)\n",
    "f = np.sort(f, axis=1)\n",
    "g = f.view(dtype=[('p0', f.dtype),('p1', f.dtype)] )\n",
    "g = np.unique(g)\n",
    "print(g)"
   ]
  },
  {
   "cell_type": "markdown",
   "metadata": {},
   "source": [
    "#### 74. Given an array C that is a bincount, how to produce an array A such that np.bincount(A) == C? (★★★)"
   ]
  },
  {
   "cell_type": "code",
   "execution_count": 69,
   "metadata": {},
   "outputs": [
    {
     "name": "stdout",
     "output_type": "stream",
     "text": [
      "[1 1 2 3 4 4 6]\n"
     ]
    }
   ],
   "source": [
    "c = np.bincount([1,1,2,3,4,4,6])\n",
    "a = np.repeat(np.arange(len(c)), c)\n",
    "print(a)"
   ]
  },
  {
   "cell_type": "markdown",
   "metadata": {},
   "source": [
    "#### 75. How to compute averages using a sliding window over an array? (★★★)"
   ]
  },
  {
   "cell_type": "code",
   "execution_count": 70,
   "metadata": {},
   "outputs": [
    {
     "name": "stdout",
     "output_type": "stream",
     "text": [
      "[  1.   2.   3.   4.   5.   6.   7.   8.   9.  10.  11.  12.  13.  14.  15.\n",
      "  16.  17.  18.]\n"
     ]
    }
   ],
   "source": [
    "def moving_average(a, n=3) :\n",
    "    ret = np.cumsum(a, dtype=float)\n",
    "    ret[n:] = ret[n:] - ret[:-n]\n",
    "    return ret[n - 1:] / n\n",
    "z = np.arange(20)\n",
    "print(moving_average(z, n=3))"
   ]
  },
  {
   "cell_type": "markdown",
   "metadata": {},
   "source": [
    "#### 76. Consider a one-dimensional array Z, build a two-dimensional array whose first row is (Z\\[0\\],Z\\[1\\],Z\\[2\\]) and each subsequent row is  shifted by 1 (last row should be (Z\\[-3\\],Z\\[-2\\],Z\\[-1\\]) (★★★)"
   ]
  },
  {
   "cell_type": "code",
   "execution_count": 71,
   "metadata": {},
   "outputs": [
    {
     "name": "stdout",
     "output_type": "stream",
     "text": [
      "[[0 1 2]\n",
      " [1 2 3]\n",
      " [2 3 4]\n",
      " [3 4 5]\n",
      " [4 5 6]\n",
      " [5 6 7]\n",
      " [6 7 8]\n",
      " [7 8 9]]\n"
     ]
    }
   ],
   "source": [
    "from numpy.lib import stride_tricks\n",
    "\n",
    "def rolling(a, window):\n",
    "    shape = (a.size - window + 1, window)\n",
    "    strides = (a.itemsize, a.itemsize)\n",
    "    return stride_tricks.as_strided(a, shape=shape, strides=strides)\n",
    "z = rolling(np.arange(10), 3)\n",
    "print(z)"
   ]
  },
  {
   "cell_type": "markdown",
   "metadata": {},
   "source": [
    "#### 77. How to negate a boolean, or to change the sign of a float inplace? (★★★)"
   ]
  },
  {
   "cell_type": "code",
   "execution_count": 72,
   "metadata": {},
   "outputs": [
    {
     "data": {
      "text/plain": [
       "array([-0.14662673,  0.07666813,  0.89655291, -0.64992018,  0.98973751,\n",
       "        0.71998684, -0.97393585,  0.95896161,  0.33695185, -0.53338443,\n",
       "        0.70196207, -0.38394669, -0.01767426,  0.61189025, -0.77664677,\n",
       "       -0.73033816,  0.81506148,  0.22291183, -0.30246494, -0.71886219,\n",
       "       -0.51495771,  0.55615601,  0.40405204,  0.46244159, -0.29100994,\n",
       "        0.37623752,  0.2978564 ,  0.17047726, -0.89406521,  0.78866067,\n",
       "       -0.8967314 ,  0.38789103, -0.07927997, -0.07594232, -0.68618826,\n",
       "       -0.20835326, -0.70217481,  0.87666219, -0.70132753, -0.25110947,\n",
       "       -0.84368693,  0.62347389,  0.47106861, -0.85327365,  0.19504231,\n",
       "        0.27065016, -0.16070461, -0.14257464,  0.81024039,  0.73323712,\n",
       "        0.11485543, -0.58671546,  0.94145751, -0.86878178,  0.29130352,\n",
       "        0.65274297,  0.21029416, -0.49344452, -0.64940421, -0.57137918,\n",
       "       -0.11958578, -0.8105155 ,  0.43188518,  0.60198585, -0.44033785,\n",
       "        0.16290129,  0.58579972,  0.46461718, -0.61150225, -0.12954785,\n",
       "       -0.7574051 ,  0.26124598,  0.78576097,  0.79087232, -0.31064055,\n",
       "       -0.84884481,  0.29050907, -0.05482187, -0.76189604, -0.59695978,\n",
       "        0.13368355, -0.72213778,  0.1704391 , -0.1220352 , -0.98990464,\n",
       "       -0.99995914,  0.16353152, -0.3725869 , -0.86326931, -0.23525512,\n",
       "       -0.94323168, -0.40612912,  0.13424108, -0.90427828, -0.5416012 ,\n",
       "        0.10324405, -0.34980329, -0.08400027,  0.26541621, -0.47786737])"
      ]
     },
     "execution_count": 72,
     "metadata": {},
     "output_type": "execute_result"
    }
   ],
   "source": [
    "z = np.random.randint(0,2,100)\n",
    "np.logical_not(z, out=z)\n",
    "\n",
    "z = np.random.uniform(-1.0, 1.0, 100)\n",
    "np.negative(z, out=z)"
   ]
  },
  {
   "cell_type": "markdown",
   "metadata": {},
   "source": [
    "#### 78. Consider 2 sets of points P0,P1 describing lines (2d) and a point p, how to compute distance from p to each line i  (P0\\[i\\],P1\\[i\\])? (★★★)"
   ]
  },
  {
   "cell_type": "code",
   "execution_count": 73,
   "metadata": {},
   "outputs": [
    {
     "name": "stdout",
     "output_type": "stream",
     "text": [
      "[  2.1533401    0.31262975   0.83579666   0.02196539   9.83307279\n",
      "   1.16183383   1.53450071   3.56430542  10.4338755    6.33533289]\n"
     ]
    }
   ],
   "source": [
    "def distance(p0, p1, p):\n",
    "    t = p1 - p0\n",
    "    l = (t ** 2).sum(axis=1)\n",
    "    u = -((p0[:,0] - p[...,0]) * t[:,0] + (p0[:,1] - p[...,1]) * t[:,1]) / l\n",
    "    u = u.reshape(len(u),1)\n",
    "    d = p0 + u * t - p\n",
    "    return np.sqrt((d ** 2).sum(axis=1))\n",
    "\n",
    "p0 = np.random.uniform(-10, 10, (10, 2))\n",
    "p1 = np.random.uniform(-10, 10, (10, 2))\n",
    "p  = np.random.uniform(-10, 10, (1, 2))\n",
    "print(distance(p0, p1, p))"
   ]
  },
  {
   "cell_type": "markdown",
   "metadata": {},
   "source": [
    "#### 79. Consider 2 sets of points P0,P1 describing lines (2d) and a set of points P, how to compute distance from each point j (P\\[j\\]) to each line i (P0\\[i\\],P1\\[i\\])? (★★★)"
   ]
  },
  {
   "cell_type": "code",
   "execution_count": 74,
   "metadata": {},
   "outputs": [
    {
     "name": "stdout",
     "output_type": "stream",
     "text": [
      "[[  8.88964761   2.70645446   6.07971512   7.18013454   8.16746113\n",
      "    2.03546635   0.94931746   4.05898421   5.72080476   7.72962764]\n",
      " [  7.20653975  10.61292591   4.5516303   11.92485131   9.48017137\n",
      "   17.5262574   13.86639649  10.77341663   9.63022523   9.11727296]\n",
      " [  4.02155412   7.02914064   1.0241196    9.76571578   6.67549557\n",
      "   16.56824906  10.46567731   7.37511114   5.7952187    9.85180337]\n",
      " [  0.27961427   3.86130784   1.09087217   5.44642755   2.62465652\n",
      "   12.24006426   6.98607841   3.8920635    4.65577705   6.24177077]\n",
      " [  2.30874819   5.13469833   0.74029885   8.54846086   5.1434168\n",
      "   15.95221907   8.65309543   5.56362941   3.83883371  10.10598071]\n",
      " [  5.96354753   9.68898706   5.09218336  10.27064359   8.04154275\n",
      "   15.69428763  12.77404215   9.67914308   9.66609769   7.36747951]\n",
      " [  0.51665881   4.69359009   7.18919276   1.95185739   0.67081442\n",
      "    6.69192797   6.99084534   3.88701686   9.2766933    0.98892819]\n",
      " [ 13.59386881   8.30539537   0.36507227   9.84653901  12.08839738\n",
      "    2.51145846   6.12340425   9.22766343   0.93042952   5.33328488]\n",
      " [ 12.53913577   8.27079195   3.85048697   7.16163971  10.32449057\n",
      "    1.34494794   5.56722414   8.6653378    3.3803108    0.63354044]\n",
      " [ 10.19340311   5.23003531   0.36835385   6.25755277   8.54972573\n",
      "    0.81783207   2.86407536   5.96638558   0.73979112   2.89616161]]\n"
     ]
    }
   ],
   "source": [
    "p0 = np.random.uniform(-10, 10, (10, 2))\n",
    "p1 = np.random.uniform(-10,10,(10, 2))\n",
    "p = np.random.uniform(-10, 10, (10, 2))\n",
    "print(np.array([distance(p0, p1, p_i) for p_i in p]))"
   ]
  },
  {
   "cell_type": "markdown",
   "metadata": {},
   "source": [
    "#### 80. Consider an arbitrary array, write a function that extract a subpart with a fixed shape and centered on a given element (pad with a `fill` value when necessary) (★★★)"
   ]
  },
  {
   "cell_type": "code",
   "execution_count": 76,
   "metadata": {},
   "outputs": [
    {
     "name": "stdout",
     "output_type": "stream",
     "text": [
      "[[9 2 4 6 8 1 7 0 6 5]\n",
      " [7 9 3 8 2 7 4 4 1 5]\n",
      " [7 9 9 0 8 2 9 9 2 6]\n",
      " [4 7 0 4 6 7 0 5 1 1]\n",
      " [7 7 8 0 2 9 5 5 1 4]\n",
      " [1 0 8 3 6 1 4 2 7 5]\n",
      " [3 9 1 8 8 2 0 4 5 6]\n",
      " [2 7 0 5 1 3 0 1 1 4]\n",
      " [1 2 3 5 1 7 1 8 6 6]\n",
      " [8 7 2 3 5 0 6 6 1 7]]\n",
      "[[0 0 0 0 0]\n",
      " [0 9 2 4 6]\n",
      " [0 7 9 3 8]\n",
      " [0 7 9 9 0]\n",
      " [0 4 7 0 4]]\n"
     ]
    }
   ],
   "source": [
    "z = np.random.randint(0, 10, (10, 10))\n",
    "shape = (5, 5)\n",
    "fill  = 0\n",
    "position = (1, 1)\n",
    "\n",
    "r = np.ones(shape, dtype=z.dtype) * fill\n",
    "p  = np.array(list(position)).astype(int)\n",
    "rs = np.array(list(r.shape)).astype(int)\n",
    "zs = np.array(list(z.shape)).astype(int)\n",
    "\n",
    "r_start = np.zeros((len(shape),)).astype(int)\n",
    "r_stop  = np.array(list(shape)).astype(int)\n",
    "z_start = (p - rs // 2)\n",
    "z_stop  = (p + rs // 2) + rs % 2\n",
    "\n",
    "r_start = (r_start - np.minimum(z_start,0)).tolist()\n",
    "z_start = (np.maximum(z_start,0)).tolist()\n",
    "r_stop = np.maximum(r_start, (r_stop - np.maximum(r_stop - zs,0))).tolist()\n",
    "z_stop = (np.minimum(z_stop, zs)).tolist()\n",
    "\n",
    "a = [slice(start,stop) for start,stop in zip(r_start, r_stop)]\n",
    "b = [slice(start,stop) for start,stop in zip(z_start, z_stop)]\n",
    "r[a] = z[b]\n",
    "print(z)\n",
    "print(r)"
   ]
  },
  {
   "cell_type": "markdown",
   "metadata": {},
   "source": [
    "#### 81. Consider an array Z = \\[1,2,3,4,5,6,7,8,9,10,11,12,13,14\\], how to generate an array R = \\[\\[1,2,3,4\\], \\[2,3,4,5\\], \\[3,4,5,6\\], ..., \\[11,12,13,14\\]\\]? (★★★)"
   ]
  },
  {
   "cell_type": "code",
   "execution_count": 77,
   "metadata": {},
   "outputs": [
    {
     "name": "stdout",
     "output_type": "stream",
     "text": [
      "[[ 1  2  3  4]\n",
      " [ 2  3  4  5]\n",
      " [ 3  4  5  6]\n",
      " [ 4  5  6  7]\n",
      " [ 5  6  7  8]\n",
      " [ 6  7  8  9]\n",
      " [ 7  8  9 10]\n",
      " [ 8  9 10 11]\n",
      " [ 9 10 11 12]\n",
      " [10 11 12 13]\n",
      " [11 12 13 14]]\n"
     ]
    }
   ],
   "source": [
    "z = np.arange(1, 15, dtype=np.uint32)\n",
    "r = stride_tricks.as_strided(z, (11, 4), (4, 4))\n",
    "print(r)"
   ]
  },
  {
   "cell_type": "markdown",
   "metadata": {},
   "source": [
    "#### 82. Compute a matrix rank (★★★)"
   ]
  },
  {
   "cell_type": "code",
   "execution_count": 78,
   "metadata": {},
   "outputs": [
    {
     "name": "stdout",
     "output_type": "stream",
     "text": [
      "10\n"
     ]
    }
   ],
   "source": [
    "z = np.random.uniform(0, 1, (10, 10))\n",
    "u, s, v = np.linalg.svd(z)\n",
    "rank = np.sum(s > 1e-10)\n",
    "print(rank)"
   ]
  },
  {
   "cell_type": "markdown",
   "metadata": {},
   "source": [
    "#### 83. How to find the most frequent value in an array?"
   ]
  },
  {
   "cell_type": "code",
   "execution_count": 79,
   "metadata": {},
   "outputs": [
    {
     "name": "stdout",
     "output_type": "stream",
     "text": [
      "4\n"
     ]
    }
   ],
   "source": [
    "z = np.random.randint(0, 10, 50)\n",
    "print(np.bincount(z).argmax())"
   ]
  },
  {
   "cell_type": "markdown",
   "metadata": {},
   "source": [
    "#### 84. Extract all the contiguous 3x3 blocks from a random 10x10 matrix (★★★)"
   ]
  },
  {
   "cell_type": "code",
   "execution_count": 80,
   "metadata": {},
   "outputs": [
    {
     "name": "stdout",
     "output_type": "stream",
     "text": [
      "[[[[2 1 1]\n",
      "   [1 4 1]\n",
      "   [3 1 1]]\n",
      "\n",
      "  [[1 1 2]\n",
      "   [4 1 4]\n",
      "   [1 1 2]]\n",
      "\n",
      "  [[1 2 1]\n",
      "   [1 4 3]\n",
      "   [1 2 2]]\n",
      "\n",
      "  [[2 1 1]\n",
      "   [4 3 1]\n",
      "   [2 2 1]]\n",
      "\n",
      "  [[1 1 0]\n",
      "   [3 1 2]\n",
      "   [2 1 2]]\n",
      "\n",
      "  [[1 0 0]\n",
      "   [1 2 2]\n",
      "   [1 2 3]]\n",
      "\n",
      "  [[0 0 4]\n",
      "   [2 2 0]\n",
      "   [2 3 3]]\n",
      "\n",
      "  [[0 4 1]\n",
      "   [2 0 1]\n",
      "   [3 3 3]]]\n",
      "\n",
      "\n",
      " [[[1 4 1]\n",
      "   [3 1 1]\n",
      "   [2 0 1]]\n",
      "\n",
      "  [[4 1 4]\n",
      "   [1 1 2]\n",
      "   [0 1 0]]\n",
      "\n",
      "  [[1 4 3]\n",
      "   [1 2 2]\n",
      "   [1 0 4]]\n",
      "\n",
      "  [[4 3 1]\n",
      "   [2 2 1]\n",
      "   [0 4 3]]\n",
      "\n",
      "  [[3 1 2]\n",
      "   [2 1 2]\n",
      "   [4 3 3]]\n",
      "\n",
      "  [[1 2 2]\n",
      "   [1 2 3]\n",
      "   [3 3 0]]\n",
      "\n",
      "  [[2 2 0]\n",
      "   [2 3 3]\n",
      "   [3 0 2]]\n",
      "\n",
      "  [[2 0 1]\n",
      "   [3 3 3]\n",
      "   [0 2 0]]]\n",
      "\n",
      "\n",
      " [[[3 1 1]\n",
      "   [2 0 1]\n",
      "   [0 3 0]]\n",
      "\n",
      "  [[1 1 2]\n",
      "   [0 1 0]\n",
      "   [3 0 2]]\n",
      "\n",
      "  [[1 2 2]\n",
      "   [1 0 4]\n",
      "   [0 2 1]]\n",
      "\n",
      "  [[2 2 1]\n",
      "   [0 4 3]\n",
      "   [2 1 4]]\n",
      "\n",
      "  [[2 1 2]\n",
      "   [4 3 3]\n",
      "   [1 4 0]]\n",
      "\n",
      "  [[1 2 3]\n",
      "   [3 3 0]\n",
      "   [4 0 4]]\n",
      "\n",
      "  [[2 3 3]\n",
      "   [3 0 2]\n",
      "   [0 4 2]]\n",
      "\n",
      "  [[3 3 3]\n",
      "   [0 2 0]\n",
      "   [4 2 2]]]\n",
      "\n",
      "\n",
      " [[[2 0 1]\n",
      "   [0 3 0]\n",
      "   [0 0 0]]\n",
      "\n",
      "  [[0 1 0]\n",
      "   [3 0 2]\n",
      "   [0 0 4]]\n",
      "\n",
      "  [[1 0 4]\n",
      "   [0 2 1]\n",
      "   [0 4 4]]\n",
      "\n",
      "  [[0 4 3]\n",
      "   [2 1 4]\n",
      "   [4 4 2]]\n",
      "\n",
      "  [[4 3 3]\n",
      "   [1 4 0]\n",
      "   [4 2 3]]\n",
      "\n",
      "  [[3 3 0]\n",
      "   [4 0 4]\n",
      "   [2 3 0]]\n",
      "\n",
      "  [[3 0 2]\n",
      "   [0 4 2]\n",
      "   [3 0 2]]\n",
      "\n",
      "  [[0 2 0]\n",
      "   [4 2 2]\n",
      "   [0 2 2]]]\n",
      "\n",
      "\n",
      " [[[0 3 0]\n",
      "   [0 0 0]\n",
      "   [1 4 2]]\n",
      "\n",
      "  [[3 0 2]\n",
      "   [0 0 4]\n",
      "   [4 2 0]]\n",
      "\n",
      "  [[0 2 1]\n",
      "   [0 4 4]\n",
      "   [2 0 2]]\n",
      "\n",
      "  [[2 1 4]\n",
      "   [4 4 2]\n",
      "   [0 2 2]]\n",
      "\n",
      "  [[1 4 0]\n",
      "   [4 2 3]\n",
      "   [2 2 0]]\n",
      "\n",
      "  [[4 0 4]\n",
      "   [2 3 0]\n",
      "   [2 0 1]]\n",
      "\n",
      "  [[0 4 2]\n",
      "   [3 0 2]\n",
      "   [0 1 3]]\n",
      "\n",
      "  [[4 2 2]\n",
      "   [0 2 2]\n",
      "   [1 3 3]]]\n",
      "\n",
      "\n",
      " [[[0 0 0]\n",
      "   [1 4 2]\n",
      "   [1 3 2]]\n",
      "\n",
      "  [[0 0 4]\n",
      "   [4 2 0]\n",
      "   [3 2 4]]\n",
      "\n",
      "  [[0 4 4]\n",
      "   [2 0 2]\n",
      "   [2 4 4]]\n",
      "\n",
      "  [[4 4 2]\n",
      "   [0 2 2]\n",
      "   [4 4 0]]\n",
      "\n",
      "  [[4 2 3]\n",
      "   [2 2 0]\n",
      "   [4 0 4]]\n",
      "\n",
      "  [[2 3 0]\n",
      "   [2 0 1]\n",
      "   [0 4 3]]\n",
      "\n",
      "  [[3 0 2]\n",
      "   [0 1 3]\n",
      "   [4 3 2]]\n",
      "\n",
      "  [[0 2 2]\n",
      "   [1 3 3]\n",
      "   [3 2 4]]]\n",
      "\n",
      "\n",
      " [[[1 4 2]\n",
      "   [1 3 2]\n",
      "   [2 0 0]]\n",
      "\n",
      "  [[4 2 0]\n",
      "   [3 2 4]\n",
      "   [0 0 0]]\n",
      "\n",
      "  [[2 0 2]\n",
      "   [2 4 4]\n",
      "   [0 0 1]]\n",
      "\n",
      "  [[0 2 2]\n",
      "   [4 4 0]\n",
      "   [0 1 0]]\n",
      "\n",
      "  [[2 2 0]\n",
      "   [4 0 4]\n",
      "   [1 0 2]]\n",
      "\n",
      "  [[2 0 1]\n",
      "   [0 4 3]\n",
      "   [0 2 1]]\n",
      "\n",
      "  [[0 1 3]\n",
      "   [4 3 2]\n",
      "   [2 1 4]]\n",
      "\n",
      "  [[1 3 3]\n",
      "   [3 2 4]\n",
      "   [1 4 1]]]\n",
      "\n",
      "\n",
      " [[[1 3 2]\n",
      "   [2 0 0]\n",
      "   [4 2 1]]\n",
      "\n",
      "  [[3 2 4]\n",
      "   [0 0 0]\n",
      "   [2 1 3]]\n",
      "\n",
      "  [[2 4 4]\n",
      "   [0 0 1]\n",
      "   [1 3 0]]\n",
      "\n",
      "  [[4 4 0]\n",
      "   [0 1 0]\n",
      "   [3 0 3]]\n",
      "\n",
      "  [[4 0 4]\n",
      "   [1 0 2]\n",
      "   [0 3 4]]\n",
      "\n",
      "  [[0 4 3]\n",
      "   [0 2 1]\n",
      "   [3 4 2]]\n",
      "\n",
      "  [[4 3 2]\n",
      "   [2 1 4]\n",
      "   [4 2 2]]\n",
      "\n",
      "  [[3 2 4]\n",
      "   [1 4 1]\n",
      "   [2 2 2]]]]\n"
     ]
    }
   ],
   "source": [
    "z = np.random.randint(0, 5, (10, 10))\n",
    "n = 3\n",
    "i = 1 + (z.shape[0] - 3)\n",
    "j = 1 + (z.shape[1] - 3)\n",
    "c = stride_tricks.as_strided(z, shape=(i, j, n, n), strides=z.strides + z.strides)\n",
    "print(c)"
   ]
  },
  {
   "cell_type": "markdown",
   "metadata": {},
   "source": [
    "#### 85. Create a 2D array subclass such that Z\\[i,j\\] == Z\\[j,i\\] (★★★)"
   ]
  },
  {
   "cell_type": "code",
   "execution_count": 81,
   "metadata": {},
   "outputs": [
    {
     "name": "stdout",
     "output_type": "stream",
     "text": [
      "[[ 3  7  7 11  7]\n",
      " [ 7  6  2 12 14]\n",
      " [ 7  2  0 42 13]\n",
      " [11 12 42  5 13]\n",
      " [ 7 14 13 13  3]]\n"
     ]
    }
   ],
   "source": [
    "class Symetric(np.ndarray):\n",
    "    def __setitem__(self, index, value):\n",
    "        i,j = index\n",
    "        super(Symetric, self).__setitem__((i,j), value)\n",
    "        super(Symetric, self).__setitem__((j,i), value)\n",
    "\n",
    "def symetric(z):\n",
    "    return np.asarray(z + z.T - np.diag(z.diagonal())).view(Symetric)\n",
    "\n",
    "s = symetric(np.random.randint(0, 10, (5, 5)))\n",
    "s[2,3] = 42\n",
    "print(s)"
   ]
  },
  {
   "cell_type": "markdown",
   "metadata": {},
   "source": [
    "#### 86. Consider a set of p matrices wich shape (n,n) and a set of p vectors with shape (n,1). How to compute the sum of of the p matrix products at once? (result has shape (n,1)) (★★★)"
   ]
  },
  {
   "cell_type": "code",
   "execution_count": 82,
   "metadata": {},
   "outputs": [
    {
     "name": "stdout",
     "output_type": "stream",
     "text": [
      "[[ 200.]\n",
      " [ 200.]\n",
      " [ 200.]\n",
      " [ 200.]\n",
      " [ 200.]\n",
      " [ 200.]\n",
      " [ 200.]\n",
      " [ 200.]\n",
      " [ 200.]\n",
      " [ 200.]\n",
      " [ 200.]\n",
      " [ 200.]\n",
      " [ 200.]\n",
      " [ 200.]\n",
      " [ 200.]\n",
      " [ 200.]\n",
      " [ 200.]\n",
      " [ 200.]\n",
      " [ 200.]\n",
      " [ 200.]]\n"
     ]
    }
   ],
   "source": [
    "p, n = 10, 20\n",
    "m = np.ones((p, n, n))\n",
    "v = np.ones((p, n, 1))\n",
    "s = np.tensordot(m, v, axes=[[0, 2], [0, 1]])\n",
    "print(s)"
   ]
  },
  {
   "cell_type": "markdown",
   "metadata": {},
   "source": [
    "#### 87. Consider a 16x16 array, how to get the block-sum (block size is 4x4)? (★★★)"
   ]
  },
  {
   "cell_type": "code",
   "execution_count": 83,
   "metadata": {},
   "outputs": [
    {
     "name": "stdout",
     "output_type": "stream",
     "text": [
      "[[ 16.  16.  16.  16.]\n",
      " [ 16.  16.  16.  16.]\n",
      " [ 16.  16.  16.  16.]\n",
      " [ 16.  16.  16.  16.]]\n"
     ]
    }
   ],
   "source": [
    "z = np.ones((16,16))\n",
    "k = 4\n",
    "s = np.add.reduceat(np.add.reduceat(z, np.arange(0, z.shape[0], k), axis=0),\n",
    "                                       np.arange(0, z.shape[1], k), axis=1)\n",
    "print(s)"
   ]
  },
  {
   "cell_type": "markdown",
   "metadata": {},
   "source": [
    "#### 88. How to implement the Game of Life using numpy arrays? (★★★)"
   ]
  },
  {
   "cell_type": "code",
   "execution_count": 84,
   "metadata": {},
   "outputs": [
    {
     "name": "stdout",
     "output_type": "stream",
     "text": [
      "[[0 0 0 0 0 0 0 0 0 0 0 0 0 0 0 0 0 0 0 0 0 0 0 0 0 0 0 0 0 0 0 0 0 0 0 0 0\n",
      "  0 0 0 0 0 0 0 0 0 0 0 0 0]\n",
      " [0 0 0 0 0 0 0 0 0 0 0 0 0 0 0 0 0 0 0 0 0 0 0 0 0 0 0 0 0 0 0 0 0 1 1 0 0\n",
      "  0 1 1 0 0 0 0 0 0 0 0 0 0]\n",
      " [0 0 0 0 0 0 0 0 0 0 0 0 0 0 0 0 0 0 0 0 0 0 0 0 0 0 0 0 0 0 0 1 1 0 0 0 0\n",
      "  0 0 0 1 1 0 0 0 0 0 0 0 0]\n",
      " [0 0 0 0 0 0 0 0 0 0 0 0 0 0 0 0 0 0 0 0 0 0 0 0 0 0 0 0 0 0 0 1 1 0 1 1 0\n",
      "  1 1 0 1 1 0 0 0 0 0 0 0 0]\n",
      " [0 0 0 0 0 0 0 0 0 0 0 0 0 0 0 0 0 0 0 0 0 0 0 0 0 0 0 0 0 0 1 0 0 0 0 0 0\n",
      "  0 0 0 0 0 1 0 0 0 0 0 0 0]\n",
      " [0 0 0 0 0 0 0 0 0 0 0 0 0 0 0 0 0 0 0 0 0 0 0 0 0 0 0 0 0 1 0 0 0 0 1 0 0\n",
      "  0 1 0 0 0 0 1 0 0 0 0 0 0]\n",
      " [0 0 0 0 0 0 0 0 0 0 0 0 0 0 0 0 0 0 0 0 0 0 0 0 0 0 0 0 0 0 1 0 0 0 0 0 0\n",
      "  0 0 0 0 0 1 0 0 0 0 0 0 0]\n",
      " [0 0 0 0 0 0 0 0 0 0 0 0 0 0 0 0 0 0 1 1 1 0 0 0 0 0 0 0 0 0 0 1 0 0 0 0 0\n",
      "  0 0 0 0 1 0 0 0 1 0 0 0 0]\n",
      " [0 0 0 0 0 0 0 0 0 0 0 0 0 1 1 0 0 0 1 1 1 0 0 0 0 0 0 0 0 0 0 0 0 0 0 0 0\n",
      "  0 0 0 0 0 0 0 1 0 0 1 0 0]\n",
      " [0 0 0 0 0 0 0 0 0 0 0 0 0 0 1 0 1 1 1 0 1 0 0 0 0 0 0 0 0 0 0 0 0 0 0 0 0\n",
      "  0 0 0 0 0 0 0 1 0 0 1 0 0]\n",
      " [0 0 0 0 0 0 0 0 0 1 0 1 1 0 0 0 1 0 1 0 0 0 0 0 0 0 0 0 0 0 0 0 0 0 0 0 0\n",
      "  0 0 0 0 0 0 0 0 0 1 0 0 0]\n",
      " [0 0 0 0 0 0 0 0 0 1 0 0 0 0 0 0 0 0 0 1 1 0 0 0 0 0 0 0 0 0 0 0 0 0 0 0 0\n",
      "  0 0 0 1 0 0 0 0 0 0 0 0 0]\n",
      " [0 0 0 0 0 0 0 0 0 0 0 0 0 0 0 0 0 0 0 0 1 0 0 0 0 0 0 0 0 0 0 0 0 0 0 0 0\n",
      "  0 0 1 0 1 0 0 0 0 0 0 0 0]\n",
      " [0 0 0 0 0 0 0 0 0 0 0 0 0 0 0 0 0 0 0 0 0 0 0 0 0 0 0 0 0 0 0 0 0 0 0 0 0\n",
      "  0 0 1 0 1 0 0 0 0 0 0 0 0]\n",
      " [0 0 0 0 0 0 0 0 0 0 0 1 1 0 0 1 0 1 1 0 0 0 0 0 0 0 0 0 0 0 0 0 0 0 0 0 0\n",
      "  0 0 0 1 0 0 0 0 0 0 0 0 0]\n",
      " [0 0 0 0 0 0 0 0 0 0 0 0 0 1 0 1 0 1 1 0 0 0 0 0 0 0 0 0 0 0 0 0 0 0 0 0 0\n",
      "  0 0 0 0 0 0 0 0 0 0 0 0 0]\n",
      " [0 0 0 0 0 0 0 0 0 0 0 0 0 0 0 1 1 1 1 1 0 1 1 0 0 0 0 0 0 0 0 0 0 0 0 0 1\n",
      "  0 0 0 0 0 0 0 0 0 0 0 0 0]\n",
      " [0 0 0 0 0 0 0 0 0 0 0 0 0 0 0 0 0 0 1 0 0 0 1 1 0 0 0 0 0 0 0 0 0 0 0 1 0\n",
      "  1 0 0 0 0 0 0 0 0 0 0 0 0]\n",
      " [0 1 1 0 0 0 0 0 0 0 0 0 0 0 0 0 1 0 0 0 0 0 0 0 0 0 0 0 0 0 0 0 0 0 0 1 0\n",
      "  1 0 0 0 0 0 0 0 0 0 0 0 0]\n",
      " [0 1 0 1 0 0 0 0 0 0 0 0 0 0 1 0 0 0 0 0 0 0 0 0 0 0 0 1 0 0 0 0 0 0 0 0 1\n",
      "  0 0 0 0 0 0 0 0 0 0 0 0 0]\n",
      " [0 0 1 0 0 0 0 0 0 0 0 0 0 1 0 1 0 0 0 0 0 0 0 0 0 0 1 0 1 0 0 0 0 0 0 0 0\n",
      "  0 0 0 0 0 0 0 0 0 0 0 0 0]\n",
      " [0 0 0 0 0 0 0 0 0 0 0 0 0 0 1 0 0 0 0 0 0 0 0 0 0 1 1 0 1 1 0 0 0 0 0 0 0\n",
      "  0 0 0 0 0 0 0 0 0 0 0 0 0]\n",
      " [0 0 0 0 0 0 0 0 0 0 0 0 0 0 0 0 0 0 0 0 0 0 0 0 0 0 1 0 0 1 0 0 0 0 0 0 0\n",
      "  0 0 0 0 0 0 0 0 0 0 0 0 0]\n",
      " [0 0 0 0 0 0 0 0 0 0 0 0 0 0 0 0 0 0 0 0 0 0 0 0 0 0 0 0 1 0 0 0 0 0 0 0 0\n",
      "  0 0 0 1 1 0 0 0 0 0 0 0 0]\n",
      " [0 0 0 0 0 0 0 0 0 0 0 0 0 0 0 0 0 0 0 0 0 0 0 0 0 0 1 0 1 0 0 0 0 0 0 0 0\n",
      "  0 0 0 1 1 0 0 0 0 0 0 0 0]\n",
      " [0 0 0 0 0 0 0 0 0 0 0 0 0 0 0 0 0 0 0 0 0 0 0 0 0 0 1 1 0 0 0 0 0 0 0 0 0\n",
      "  0 0 0 0 0 0 0 0 0 0 0 0 0]\n",
      " [0 0 0 0 0 0 0 0 0 0 0 0 0 0 0 0 0 0 0 0 0 0 0 0 0 0 0 0 0 0 0 0 0 0 0 0 0\n",
      "  1 1 0 0 0 0 0 0 0 0 0 0 0]\n",
      " [0 0 0 0 0 0 0 0 0 0 0 0 0 1 0 0 0 0 0 0 0 0 0 0 0 0 0 0 0 0 0 0 0 0 0 0 0\n",
      "  1 1 0 0 0 0 0 0 0 0 0 0 0]\n",
      " [0 0 0 0 0 0 0 0 0 0 0 0 1 0 1 0 0 0 0 0 1 0 0 0 0 0 0 0 0 0 0 0 0 0 0 0 0\n",
      "  0 0 0 0 0 0 0 0 0 0 0 0 0]\n",
      " [0 0 0 0 0 0 0 0 0 0 0 0 1 0 1 0 0 0 0 0 0 1 0 0 0 0 0 0 0 0 0 0 0 0 0 0 0\n",
      "  0 0 0 0 0 0 0 0 0 0 0 0 0]\n",
      " [0 0 0 0 0 0 0 0 0 0 0 0 0 1 0 0 0 1 0 0 0 0 1 1 0 0 0 0 0 0 0 0 0 0 0 0 0\n",
      "  0 0 0 0 0 0 0 0 0 0 0 0 0]\n",
      " [0 0 0 0 0 0 0 0 0 0 0 0 0 0 0 0 1 1 0 0 1 0 1 1 0 0 0 0 0 0 0 0 0 0 0 0 0\n",
      "  0 0 0 0 0 0 0 0 0 0 0 0 0]\n",
      " [0 0 0 0 0 0 0 0 0 0 0 0 0 0 0 0 0 0 0 0 0 0 0 0 0 0 0 0 0 0 0 0 0 0 0 0 0\n",
      "  0 0 0 0 0 0 0 0 0 0 0 0 0]\n",
      " [0 0 0 0 0 0 0 0 0 0 0 0 0 0 0 0 1 0 1 0 0 0 0 0 0 0 0 0 0 0 0 0 0 0 0 0 0\n",
      "  0 0 0 0 0 0 0 0 0 0 0 0 0]\n",
      " [0 0 0 0 0 0 0 0 0 0 0 0 0 0 0 0 1 0 0 1 0 0 0 0 0 0 0 0 0 0 0 0 0 0 0 0 0\n",
      "  0 0 0 0 0 0 0 0 0 0 0 0 0]\n",
      " [0 0 0 0 0 0 0 0 0 0 0 0 0 0 0 0 1 0 0 0 0 0 0 0 0 0 0 0 0 0 0 0 0 0 0 0 0\n",
      "  0 0 0 0 0 0 0 0 0 0 0 0 0]\n",
      " [0 0 0 0 0 0 0 0 1 1 0 0 0 0 0 0 0 1 1 1 0 0 0 0 0 0 0 0 1 1 0 0 0 0 0 0 0\n",
      "  0 0 0 0 0 0 0 0 0 0 0 0 0]\n",
      " [0 0 0 0 0 0 0 0 0 0 1 0 0 0 1 0 0 0 0 0 0 0 0 0 0 0 0 0 1 1 0 0 0 0 0 0 0\n",
      "  1 1 1 0 0 0 0 0 0 0 0 0 0]\n",
      " [0 0 0 0 0 1 1 1 0 1 0 0 0 1 0 1 0 0 0 0 0 0 0 0 0 0 0 0 0 0 0 0 0 0 0 0 0\n",
      "  0 0 0 0 0 0 0 0 0 0 0 0 0]\n",
      " [0 0 0 0 0 0 1 1 1 0 0 0 0 1 0 1 0 0 0 0 0 0 0 0 0 0 0 0 0 0 0 0 0 0 0 1 0\n",
      "  0 0 0 0 1 0 0 0 0 0 0 0 0]\n",
      " [0 0 0 0 0 0 0 1 0 0 0 0 0 0 1 0 0 0 0 0 0 0 0 0 0 0 0 0 0 0 0 0 0 0 0 1 0\n",
      "  0 0 0 0 1 0 0 0 0 0 0 0 0]\n",
      " [0 0 0 0 0 0 0 0 0 0 0 0 0 0 0 0 0 0 0 0 0 0 0 0 0 0 0 0 0 0 0 0 0 0 0 1 0\n",
      "  0 0 0 0 1 0 0 0 0 0 0 0 0]\n",
      " [0 0 0 0 0 0 0 0 0 0 0 0 0 0 0 0 0 0 0 0 0 0 0 0 0 0 0 0 0 0 0 0 0 0 0 0 0\n",
      "  0 0 0 0 0 0 0 0 0 0 0 0 0]\n",
      " [0 0 0 0 0 0 0 0 0 0 0 0 0 0 0 0 0 0 0 0 0 0 0 0 0 0 0 0 0 0 0 0 0 0 0 0 0\n",
      "  1 1 1 0 0 0 0 0 0 0 0 0 0]\n",
      " [0 0 0 0 0 0 0 0 0 0 0 0 0 0 0 0 0 0 0 0 0 0 0 0 0 0 0 0 0 0 0 0 0 0 0 0 0\n",
      "  0 0 0 0 0 0 0 0 0 0 0 0 0]\n",
      " [0 0 0 0 0 1 0 0 0 0 0 0 0 0 0 0 0 0 0 0 0 0 0 0 0 0 0 0 0 0 0 0 0 0 0 0 0\n",
      "  0 0 0 0 0 0 0 0 0 0 0 0 0]\n",
      " [0 0 0 0 1 0 1 0 0 0 0 0 0 0 0 0 0 0 0 0 0 0 0 0 0 0 0 0 0 0 0 0 0 0 0 0 0\n",
      "  0 0 0 0 0 0 0 0 0 0 0 0 0]\n",
      " [0 0 0 0 1 0 1 0 0 0 0 0 0 0 0 0 0 0 0 0 0 0 0 0 0 0 0 0 0 0 0 0 0 0 0 0 0\n",
      "  0 0 0 0 0 0 0 0 0 0 1 1 0]\n",
      " [0 0 0 0 0 1 0 0 0 0 0 0 0 0 0 0 0 0 0 0 0 0 0 0 0 0 0 0 0 0 0 0 0 0 0 0 0\n",
      "  0 0 0 0 0 0 0 0 0 0 1 1 0]\n",
      " [0 0 0 0 0 0 0 0 0 0 0 0 0 0 0 0 0 0 0 0 0 0 0 0 0 0 0 0 0 0 0 0 0 0 0 0 0\n",
      "  0 0 0 0 0 0 0 0 0 0 0 0 0]]\n"
     ]
    }
   ],
   "source": [
    "def iterate(z):\n",
    "    n = (z[0:-2,0:-2] + z[0:-2,1:-1] + z[0:-2,2:] +\n",
    "         z[1:-1,0:-2]                + z[1:-1,2:] +\n",
    "         z[2:  ,0:-2] + z[2:  ,1:-1] + z[2:  ,2:])\n",
    "    birth = (n == 3) & (z[1:-1,1:-1]==0)\n",
    "    survive = ((n == 2) | (n == 3)) & (z[1:-1,1:-1]==1)\n",
    "    z[...] = 0\n",
    "    z[1:-1,1:-1][birth | survive] = 1\n",
    "    return z\n",
    "\n",
    "z = np.random.randint(0, 2, (50, 50))\n",
    "for i in range(100): z = iterate(z)\n",
    "print(z)"
   ]
  },
  {
   "cell_type": "markdown",
   "metadata": {},
   "source": [
    "#### 89. How to get the n largest values of an array (★★★)"
   ]
  },
  {
   "cell_type": "code",
   "execution_count": 85,
   "metadata": {},
   "outputs": [
    {
     "name": "stdout",
     "output_type": "stream",
     "text": [
      "[9995 9996 9997 9998 9999]\n",
      "[9998 9997 9996 9999 9995]\n"
     ]
    }
   ],
   "source": [
    "z = np.arange(10000)\n",
    "np.random.shuffle(z)\n",
    "n = 5\n",
    "print (z[np.argsort(z)[-n:]])\n",
    "print (z[np.argpartition(-z, n)[:n]])"
   ]
  },
  {
   "cell_type": "markdown",
   "metadata": {},
   "source": [
    "#### 90. Given an arbitrary number of vectors, build the cartesian product (every combinations of every item) (★★★)"
   ]
  },
  {
   "cell_type": "code",
   "execution_count": 87,
   "metadata": {
    "scrolled": true
   },
   "outputs": [
    {
     "name": "stdout",
     "output_type": "stream",
     "text": [
      "[[1 4 6]\n",
      " [1 4 7]\n",
      " [1 5 6]\n",
      " [1 5 7]\n",
      " [2 4 6]\n",
      " [2 4 7]\n",
      " [2 5 6]\n",
      " [2 5 7]\n",
      " [3 4 6]\n",
      " [3 4 7]\n",
      " [3 5 6]\n",
      " [3 5 7]]\n"
     ]
    }
   ],
   "source": [
    "def cartesian(arrays):\n",
    "    arrays = [np.asarray(a) for a in arrays]\n",
    "    shape = (len(x) for x in arrays)\n",
    "    ix = np.indices(shape, dtype=int)\n",
    "    ix = ix.reshape(len(arrays), -1).T\n",
    "    for n, arr in enumerate(arrays):\n",
    "        ix[:, n] = arrays[n][ix[:, n]]\n",
    "    return ix\n",
    "print (cartesian(([1, 2, 3], [4, 5], [6, 7])))"
   ]
  },
  {
   "cell_type": "markdown",
   "metadata": {},
   "source": [
    "#### 91. How to create a record array from a regular array? (★★★)"
   ]
  },
  {
   "cell_type": "code",
   "execution_count": 89,
   "metadata": {},
   "outputs": [
    {
     "name": "stdout",
     "output_type": "stream",
     "text": [
      "[(b'Hello',  2.5, 3) (b'World',  3.6, 2)]\n"
     ]
    }
   ],
   "source": [
    "z = np.array([(\"Hello\", 2.5, 3),\n",
    "              (\"World\", 3.6, 2)])\n",
    "r = np.core.records.fromarrays(z.T, names='col1, col2, col3', formats = 'S8, f8, i8')\n",
    "print(r)"
   ]
  },
  {
   "cell_type": "markdown",
   "metadata": {},
   "source": [
    "#### 92. Consider a large vector Z, compute Z to the power of 3 using 3 different methods (★★★)"
   ]
  },
  {
   "cell_type": "code",
   "execution_count": 91,
   "metadata": {},
   "outputs": [
    {
     "ename": "TypeError",
     "evalue": "'float' object cannot be interpreted as an integer",
     "output_type": "error",
     "traceback": [
      "\u001b[0;31m---------------------------------------------------------------------------\u001b[0m",
      "\u001b[0;31mTypeError\u001b[0m                                 Traceback (most recent call last)",
      "\u001b[0;32m<ipython-input-91-029876c65176>\u001b[0m in \u001b[0;36m<module>\u001b[0;34m()\u001b[0m\n\u001b[0;32m----> 1\u001b[0;31m \u001b[0mx\u001b[0m \u001b[0;34m=\u001b[0m \u001b[0mnp\u001b[0m\u001b[0;34m.\u001b[0m\u001b[0mrandom\u001b[0m\u001b[0;34m.\u001b[0m\u001b[0mrand\u001b[0m\u001b[0;34m(\u001b[0m\u001b[0;36m5e7\u001b[0m\u001b[0;34m)\u001b[0m\u001b[0;34m\u001b[0m\u001b[0m\n\u001b[0m\u001b[1;32m      2\u001b[0m \u001b[0mget_ipython\u001b[0m\u001b[0;34m(\u001b[0m\u001b[0;34m)\u001b[0m\u001b[0;34m.\u001b[0m\u001b[0mmagic\u001b[0m\u001b[0;34m(\u001b[0m\u001b[0;34m'timeit np.power(x, 3)'\u001b[0m\u001b[0;34m)\u001b[0m\u001b[0;34m\u001b[0m\u001b[0m\n\u001b[1;32m      3\u001b[0m \u001b[0mget_ipython\u001b[0m\u001b[0;34m(\u001b[0m\u001b[0;34m)\u001b[0m\u001b[0;34m.\u001b[0m\u001b[0mmagic\u001b[0m\u001b[0;34m(\u001b[0m\u001b[0;34m'timeit x * x * x'\u001b[0m\u001b[0;34m)\u001b[0m\u001b[0;34m\u001b[0m\u001b[0m\n\u001b[1;32m      4\u001b[0m \u001b[0mget_ipython\u001b[0m\u001b[0;34m(\u001b[0m\u001b[0;34m)\u001b[0m\u001b[0;34m.\u001b[0m\u001b[0mmagic\u001b[0m\u001b[0;34m(\u001b[0m\u001b[0;34m\"timeit np.einsum('i, i, i -> i', x, x, x)\"\u001b[0m\u001b[0;34m)\u001b[0m\u001b[0;34m\u001b[0m\u001b[0m\n",
      "\u001b[0;32mmtrand.pyx\u001b[0m in \u001b[0;36mmtrand.RandomState.rand\u001b[0;34m()\u001b[0m\n",
      "\u001b[0;32mmtrand.pyx\u001b[0m in \u001b[0;36mmtrand.RandomState.random_sample\u001b[0;34m()\u001b[0m\n",
      "\u001b[0;32mmtrand.pyx\u001b[0m in \u001b[0;36mmtrand.cont0_array\u001b[0;34m()\u001b[0m\n",
      "\u001b[0;31mTypeError\u001b[0m: 'float' object cannot be interpreted as an integer"
     ]
    }
   ],
   "source": [
    "x = np.random.rand(5e7)\n",
    "%timeit np.power(x, 3)\n",
    "%timeit x * x * x\n",
    "%timeit np.einsum('i, i, i -> i', x, x, x)"
   ]
  },
  {
   "cell_type": "markdown",
   "metadata": {},
   "source": [
    "#### 93. Consider two arrays A and B of shape (8,3) and (2,2). How to find rows of A that contain elements of each row of B regardless of the order of the elements in B? (★★★)"
   ]
  },
  {
   "cell_type": "code",
   "execution_count": 92,
   "metadata": {},
   "outputs": [
    {
     "name": "stdout",
     "output_type": "stream",
     "text": [
      "[0 1 2 3 6 7]\n"
     ]
    }
   ],
   "source": [
    "a = np.random.randint(0, 5, (8, 3))\n",
    "b = np.random.randint(0, 5, (2, 2))\n",
    "\n",
    "c = (a[..., np.newaxis, np.newaxis] == b)\n",
    "rows = np.where(c.any((3, 1)).all(1))[0]\n",
    "print(rows)"
   ]
  },
  {
   "cell_type": "markdown",
   "metadata": {},
   "source": [
    "#### 94. Considering a 10x3 matrix, extract rows with unequal values (e.g. \\[2,2,3\\]) (★★★)"
   ]
  },
  {
   "cell_type": "code",
   "execution_count": 93,
   "metadata": {},
   "outputs": [
    {
     "name": "stdout",
     "output_type": "stream",
     "text": [
      "[[4 3 0]\n",
      " [0 3 2]\n",
      " [3 3 0]\n",
      " [2 4 4]\n",
      " [4 1 2]\n",
      " [2 1 1]\n",
      " [1 1 3]\n",
      " [1 2 1]\n",
      " [3 0 2]\n",
      " [4 2 4]]\n",
      "[[4 3 0]\n",
      " [0 3 2]\n",
      " [3 3 0]\n",
      " [2 4 4]\n",
      " [4 1 2]\n",
      " [2 1 1]\n",
      " [1 1 3]\n",
      " [1 2 1]\n",
      " [3 0 2]\n",
      " [4 2 4]]\n",
      "[[4 3 0]\n",
      " [0 3 2]\n",
      " [3 3 0]\n",
      " [2 4 4]\n",
      " [4 1 2]\n",
      " [2 1 1]\n",
      " [1 1 3]\n",
      " [1 2 1]\n",
      " [3 0 2]\n",
      " [4 2 4]]\n"
     ]
    }
   ],
   "source": [
    "z = np.random.randint(0, 5, (10, 3))\n",
    "print(z)\n",
    "e = np.all(z[:,1:] == z[:,:-1], axis=1)\n",
    "u = z[~e]\n",
    "print(u)\n",
    "u = z[z.max(axis=1) != z.min(axis=1),:]\n",
    "print(u)"
   ]
  },
  {
   "cell_type": "markdown",
   "metadata": {},
   "source": [
    "#### 95. Convert a vector of ints into a matrix binary representation (★★★)"
   ]
  },
  {
   "cell_type": "code",
   "execution_count": 94,
   "metadata": {},
   "outputs": [
    {
     "name": "stdout",
     "output_type": "stream",
     "text": [
      "[[0 0 0 0 0 0 0 0]\n",
      " [0 0 0 0 0 0 0 1]\n",
      " [0 0 0 0 0 0 1 0]\n",
      " [0 0 0 0 0 0 1 1]\n",
      " [0 0 0 0 1 1 1 1]\n",
      " [0 0 0 1 0 0 0 0]\n",
      " [0 0 1 0 0 0 0 0]\n",
      " [0 1 0 0 0 0 0 0]\n",
      " [1 0 0 0 0 0 0 0]]\n",
      "[[0 0 0 0 0 0 0 0]\n",
      " [0 0 0 0 0 0 0 1]\n",
      " [0 0 0 0 0 0 1 0]\n",
      " [0 0 0 0 0 0 1 1]\n",
      " [0 0 0 0 1 1 1 1]\n",
      " [0 0 0 1 0 0 0 0]\n",
      " [0 0 1 0 0 0 0 0]\n",
      " [0 1 0 0 0 0 0 0]\n",
      " [1 0 0 0 0 0 0 0]]\n"
     ]
    }
   ],
   "source": [
    "i = np.array([0, 1, 2, 3, 15, 16, 32, 64, 128])\n",
    "b = ((i.reshape(-1,1) & (2 ** np.arange(8))) != 0).astype(int)\n",
    "print(b[:,::-1])\n",
    "i = np.array([0, 1, 2, 3, 15, 16, 32, 64, 128], dtype=np.uint8)\n",
    "print(np.unpackbits(i[:, np.newaxis], axis=1))"
   ]
  },
  {
   "cell_type": "markdown",
   "metadata": {},
   "source": [
    "#### 96. Given a two dimensional array, how to extract unique rows? (★★★)"
   ]
  },
  {
   "cell_type": "code",
   "execution_count": 95,
   "metadata": {},
   "outputs": [
    {
     "name": "stdout",
     "output_type": "stream",
     "text": [
      "[[0 0 1]\n",
      " [0 1 0]\n",
      " [0 1 1]\n",
      " [1 0 1]]\n"
     ]
    }
   ],
   "source": [
    "z = np.random.randint(0, 2, (6, 3))\n",
    "t = np.ascontiguousarray(z).view(np.dtype((np.void, z.dtype.itemsize * z.shape[1])))\n",
    "_, idx = np.unique(t, return_index=True)\n",
    "uz = z[idx]\n",
    "print(uz)"
   ]
  },
  {
   "cell_type": "markdown",
   "metadata": {},
   "source": [
    "#### 97. Considering 2 vectors A & B, write the einsum equivalent of inner, outer, sum, and mul function (★★★)"
   ]
  },
  {
   "cell_type": "code",
   "execution_count": 96,
   "metadata": {},
   "outputs": [
    {
     "data": {
      "text/plain": [
       "array([[ 0.02982496,  0.01318979,  0.04321408,  0.01466157,  0.04045937,\n",
       "         0.04815806,  0.02558693,  0.01549914,  0.01143581,  0.03506264],\n",
       "       [ 0.09045712,  0.04000375,  0.13106542,  0.04446756,  0.12271057,\n",
       "         0.14606017,  0.07760345,  0.04700785,  0.03468406,  0.10634264],\n",
       "       [ 0.5631156 ,  0.24903219,  0.81591129,  0.27682038,  0.76390044,\n",
       "         0.90925693,  0.48309865,  0.29263425,  0.21591594,  0.66200645],\n",
       "       [ 0.5395161 ,  0.23859555,  0.78171742,  0.26521916,  0.73188628,\n",
       "         0.87115105,  0.46285256,  0.28037029,  0.20686716,  0.63426255],\n",
       "       [ 0.27602632,  0.12206985,  0.39994096,  0.13569098,  0.37444643,\n",
       "         0.44569684,  0.23680385,  0.14344258,  0.10583703,  0.32450034],\n",
       "       [ 0.4952591 ,  0.21902334,  0.71759243,  0.243463  ,  0.67184899,\n",
       "         0.79968974,  0.42488434,  0.25737127,  0.18989766,  0.58223342],\n",
       "       [ 0.15101552,  0.06678509,  0.2188099 ,  0.07423729,  0.20486171,\n",
       "         0.2438432 ,  0.12955669,  0.07847823,  0.05790402,  0.17753593],\n",
       "       [ 0.1596414 ,  0.0705998 ,  0.23130814,  0.07847766,  0.21656324,\n",
       "         0.25777132,  0.13695686,  0.08296084,  0.06121145,  0.18767663],\n",
       "       [ 0.58450843,  0.25849295,  0.84690786,  0.28733682,  0.79292111,\n",
       "         0.94379971,  0.50145162,  0.30375146,  0.22411862,  0.68715616],\n",
       "       [ 0.34168141,  0.15110516,  0.49507014,  0.16796618,  0.46351154,\n",
       "         0.55170944,  0.29312956,  0.17756156,  0.13101122,  0.40168537]])"
      ]
     },
     "execution_count": 96,
     "metadata": {},
     "output_type": "execute_result"
    }
   ],
   "source": [
    "a = np.random.uniform(0, 1, 10)\n",
    "b = np.random.uniform(0, 1, 10)\n",
    "np.einsum('i->', a)\n",
    "np.einsum('i,i->i', a, b)\n",
    "np.einsum('i,i', a, b)\n",
    "np.einsum('i,j->ij', a, b)"
   ]
  },
  {
   "cell_type": "markdown",
   "metadata": {},
   "source": [
    "#### 98. Considering a path described by two vectors (X,Y), how to sample it using equidistant samples (★★★)?"
   ]
  },
  {
   "cell_type": "code",
   "execution_count": 98,
   "metadata": {},
   "outputs": [
    {
     "name": "stdout",
     "output_type": "stream",
     "text": [
      "[   0.            2.48788858    4.97577716    7.46366574    9.95155432\n",
      "   12.43944289   14.92733147   17.41522005   19.90310863   22.39099721\n",
      "   24.87888579   27.36677437   29.85466295   32.34255152   34.8304401\n",
      "   37.31832868   39.80621726   42.29410584   44.78199442   47.269883\n",
      "   49.75777158   52.24566016   54.73354873   57.22143731   59.70932589\n",
      "   62.19721447   64.68510305   67.17299163   69.66088021   72.14876879\n",
      "   74.63665736   77.12454594   79.61243452   82.1003231    84.58821168\n",
      "   87.07610026   89.56398884   92.05187742   94.539766     97.02765457\n",
      "   99.51554315  102.00343173  104.49132031  106.97920889  109.46709747\n",
      "  111.95498605  114.44287463  116.9307632   119.41865178  121.90654036\n",
      "  124.39442894  126.88231752  129.3702061   131.85809468  134.34598326\n",
      "  136.83387184  139.32176041  141.80964899  144.29753757  146.78542615\n",
      "  149.27331473  151.76120331  154.24909189  156.73698047  159.22486904\n",
      "  161.71275762  164.2006462   166.68853478  169.17642336  171.66431194\n",
      "  174.15220052  176.6400891   179.12797768  181.61586625  184.10375483\n",
      "  186.59164341  189.07953199  191.56742057  194.05530915  196.54319773\n",
      "  199.03108631  201.51897488  204.00686346  206.49475204  208.98264062\n",
      "  211.4705292   213.95841778  216.44630636  218.93419494  221.42208352\n",
      "  223.90997209  226.39786067  228.88574925  231.37363783  233.86152641\n",
      "  236.34941499  238.83730357  241.32519215  243.81308072  246.3009693\n",
      "  248.78885788  251.27674646  253.76463504  256.25252362  258.7404122\n",
      "  261.22830078  263.71618936  266.20407793  268.69196651  271.17985509\n",
      "  273.66774367  276.15563225  278.64352083  281.13140941  283.61929799\n",
      "  286.10718656  288.59507514  291.08296372  293.5708523   296.05874088\n",
      "  298.54662946  301.03451804  303.52240662  306.0102952   308.49818377\n",
      "  310.98607235  313.47396093  315.96184951  318.44973809  320.93762667\n",
      "  323.42551525  325.91340383  328.4012924   330.88918098  333.37706956\n",
      "  335.86495814  338.35284672  340.8407353   343.32862388  345.81651246\n",
      "  348.30440104  350.79228961  353.28017819  355.76806677  358.25595535\n",
      "  360.74384393  363.23173251  365.71962109  368.20750967  370.69539824\n",
      "  373.18328682  375.6711754   378.15906398  380.64695256  383.13484114\n",
      "  385.62272972  388.1106183   390.59850688  393.08639545  395.57428403\n",
      "  398.06217261  400.55006119  403.03794977  405.52583835  408.01372693\n",
      "  410.50161551  412.98950408  415.47739266  417.96528124  420.45316982\n",
      "  422.9410584   425.42894698  427.91683556  430.40472414  432.89261272\n",
      "  435.38050129  437.86838987  440.35627845  442.84416703  445.33205561\n",
      "  447.81994419  450.30783277  452.79572135  455.28360992  457.7714985\n",
      "  460.25938708  462.74727566  465.23516424  467.72305282  470.2109414\n",
      "  472.69882998  475.18671856  477.67460713  480.16249571  482.65038429\n",
      "  485.13827287  487.62616145  490.11405003  492.60193861  495.08982719] [  0.00000000e+00  -3.73131229e-01  -2.59817608e+00  -3.26212050e+00\n",
      "  -2.18442687e+00  -2.98929946e-02   2.42923642e+00   4.54913599e+00\n",
      "   5.92318348e+00   6.35117933e+00   5.82369277e+00   4.46259540e+00\n",
      "   2.47320794e+00   1.09577220e-01  -2.36575300e+00  -4.71261671e+00\n",
      "  -6.72701769e+00  -8.25541575e+00  -9.18486120e+00  -9.46381505e+00\n",
      "  -9.11085788e+00  -8.12875279e+00  -6.63306046e+00  -4.69271059e+00\n",
      "  -2.44736165e+00  -2.05444585e-02   2.46101146e+00   4.86841760e+00\n",
      "   7.08937968e+00   9.02539126e+00   1.05948609e+01   1.17357250e+01\n",
      "   1.24068974e+01   1.25885805e+01   1.22815267e+01   1.15053927e+01\n",
      "   1.02963689e+01   8.70429550e+00   6.78948686e+00   4.61716636e+00\n",
      "   2.25853448e+00  -1.98731680e-01  -2.68040566e+00  -5.11543300e+00\n",
      "  -7.41973991e+00  -9.53891040e+00  -1.14237629e+01  -1.29919305e+01\n",
      "  -1.42355069e+01  -1.51243232e+01  -1.56061571e+01  -1.57219415e+01\n",
      "  -1.54217066e+01  -1.47579136e+01  -1.37255236e+01  -1.23634834e+01\n",
      "  -1.07024632e+01  -8.78327367e+00  -6.65029558e+00  -4.35514246e+00\n",
      "  -1.94290275e+00   5.28038914e-01   3.00985904e+00   5.45450275e+00\n",
      "   7.80093594e+00   1.00179639e+01   1.20595602e+01   1.38732623e+01\n",
      "   1.54564938e+01   1.67497894e+01   1.77435802e+01   1.84439878e+01\n",
      "   1.87990820e+01   1.88271003e+01   1.85472755e+01   1.79378850e+01\n",
      "   1.70105456e+01   1.58085777e+01   1.43501808e+01   1.26222364e+01\n",
      "   1.06905445e+01   8.58498641e+00   6.33562529e+00   3.96179025e+00\n",
      "   1.51802643e+00  -9.61699044e-01  -3.44349301e+00  -5.88951759e+00\n",
      "  -8.26006582e+00  -1.05270865e+01  -1.26610269e+01  -1.46343020e+01\n",
      "  -1.64206033e+01  -1.79708499e+01  -1.92894561e+01  -2.03605967e+01\n",
      "  -2.11716587e+01  -2.17133504e+01  -2.19797677e+01  -2.19626531e+01\n",
      "  -2.16476737e+01  -2.10622561e+01  -2.02145809e+01  -1.91158467e+01\n",
      "  -1.77800930e+01  -1.62239930e+01  -1.44666197e+01  -1.25291882e+01\n",
      "  -1.04347777e+01  -8.20773276e+00  -5.86978851e+00  -3.45563299e+00\n",
      "  -9.92556869e-01   1.49191203e+00   3.97031733e+00   6.41557503e+00\n",
      "   8.80126359e+00   1.11019001e+01   1.32931995e+01   1.53523150e+01\n",
      "   1.72580567e+01   1.89910866e+01   2.05340895e+01   2.18719167e+01\n",
      "   2.29917039e+01   2.38829603e+01   2.45376309e+01   2.49501314e+01\n",
      "   2.51173551e+01   2.50386548e+01   2.47157984e+01   2.41529019e+01\n",
      "   2.33563391e+01   2.23346314e+01   2.10983193e+01   1.96598169e+01\n",
      "   1.80332532e+01   1.62343003e+01   1.42799934e+01   1.21885425e+01\n",
      "   9.97914013e+00   7.67176574e+00   5.28699023e+00   2.84441658e+00\n",
      "   3.68190102e-01  -2.11846865e+00  -4.59426061e+00  -7.03829202e+00\n",
      "  -9.43024209e+00  -1.17505186e+01  -1.39803999e+01  -1.61021634e+01\n",
      "  -1.80991985e+01  -1.99561058e+01  -2.16587804e+01  -2.31850397e+01\n",
      "  -2.45166960e+01  -2.56568097e+01  -2.65976904e+01  -2.73332424e+01\n",
      "  -2.78589555e+01  -2.81718833e+01  -2.82706110e+01  -2.81552119e+01\n",
      "  -2.78066635e+01  -2.72341677e+01  -2.64578863e+01  -2.54844118e+01\n",
      "  -2.43214986e+01  -2.29779690e+01  -2.14636172e+01  -1.97837046e+01\n",
      "  -1.79341987e+01  -1.59545785e+01  -1.38585628e+01  -1.16602783e+01\n",
      "  -9.37416511e+00  -7.01488958e+00  -4.59184632e+00  -2.12995331e+00\n",
      "   3.50691071e-01   2.83498918e+00   5.30813450e+00   7.75565814e+00\n",
      "   1.01522531e+01   1.24813227e+01   1.47337756e+01   1.68973642e+01\n",
      "   1.89604991e+01   2.09071945e+01   2.26943693e+01   2.43420179e+01\n",
      "   2.58422998e+01   2.71881423e+01   2.83731992e+01   2.93376609e+01\n",
      "   3.01222558e+01   3.07280750e+01   3.11531219e+01   3.13960177e+01] [  0.00000000e+00   1.74026724e+00   9.81816584e-01  -1.34251287e+00\n",
      "  -3.53191891e+00  -4.70449474e+00  -4.59573427e+00  -3.33831870e+00\n",
      "  -1.28956083e+00   1.14234685e+00   3.55645601e+00   5.62188218e+00\n",
      "   7.09389488e+00   7.82951803e+00   7.78700678e+00   6.99685666e+00\n",
      "   5.55535240e+00   3.60417006e+00   1.30506373e+00  -1.15819722e+00\n",
      "  -3.61328132e+00  -5.89130465e+00  -7.87065053e+00  -9.41689057e+00\n",
      "  -1.04714836e+01  -1.09903787e+01  -1.09354306e+01  -1.03330912e+01\n",
      "  -9.22690166e+00  -7.67489830e+00  -5.75257980e+00  -3.54832201e+00\n",
      "  -1.15854355e+00   1.31709956e+00   3.78023622e+00   6.13780326e+00\n",
      "   8.30540149e+00   1.02098724e+01   1.17910419e+01   1.29972950e+01\n",
      "   1.37774249e+01   1.41319792e+01   1.40585758e+01   1.35636816e+01\n",
      "   1.26345244e+01   1.13409083e+01   9.72216360e+00   7.79464305e+00\n",
      "   5.64544223e+00   3.32503222e+00   8.88107041e-01  -1.59329248e+00\n",
      "  -4.05992507e+00  -6.45313746e+00  -8.71327144e+00  -1.07900854e+01\n",
      "  -1.26380653e+01  -1.42147006e+01  -1.54892299e+01  -1.64390858e+01\n",
      "  -1.70351433e+01  -1.72938948e+01  -1.71685631e+01  -1.67219979e+01\n",
      "  -1.59044166e+01  -1.47824153e+01  -1.33665280e+01  -1.16678134e+01\n",
      "  -9.75246391e+00  -7.63091465e+00  -5.35345831e+00  -2.96905840e+00\n",
      "  -5.09631905e-01   1.97507060e+00   4.44430515e+00   6.85344809e+00\n",
      "   9.15903461e+00   1.13337844e+01   1.33467125e+01   1.51336120e+01\n",
      "   1.66966787e+01   1.80162922e+01   1.90746708e+01   1.98127969e+01\n",
      "   2.02634499e+01   2.04221761e+01   2.02877631e+01   1.98449702e+01\n",
      "   1.90974465e+01   1.80799531e+01   1.68069397e+01   1.52959771e+01\n",
      "   1.35665801e+01   1.16227312e+01   9.51601869e+00   7.27388893e+00\n",
      "   4.92519240e+00   2.49981337e+00   2.82932820e-02  -2.45817963e+00\n",
      "  -4.92460367e+00  -7.34030894e+00  -9.67635928e+00  -1.19050601e+01\n",
      "  -1.40002645e+01  -1.59376556e+01  -1.76950019e+01  -1.92523833e+01\n",
      "  -2.05923861e+01  -2.16995543e+01  -2.25478860e+01  -2.31432552e+01\n",
      "  -2.34800725e+01  -2.35556687e+01  -2.33702741e+01  -2.29269662e+01\n",
      "  -2.22315865e+01  -2.12926288e+01  -2.01211000e+01  -1.87303570e+01\n",
      "  -1.71359212e+01  -1.53552740e+01  -1.34076356e+01  -1.13137308e+01\n",
      "  -9.09554383e+00  -6.77606668e+00  -4.37904252e+00  -1.92870828e+00\n",
      "   5.50461201e-01   3.03400451e+00   5.49771780e+00   7.91788934e+00\n",
      "   1.02715222e+01   1.25365431e+01   1.46919953e+01   1.67182148e+01\n",
      "   1.85969872e+01   2.03116866e+01   2.18473923e+01   2.31909872e+01\n",
      "   2.43312337e+01   2.52588296e+01   2.59664444e+01   2.64391214e+01\n",
      "   2.66748505e+01   2.66796333e+01   2.64545680e+01   2.60026765e+01\n",
      "   2.53288265e+01   2.44396400e+01   2.33433894e+01   2.20498837e+01\n",
      "   2.05703459e+01   1.89172843e+01   1.71043584e+01   1.51396391e+01\n",
      "   1.30387952e+01   1.08294252e+01   8.52903617e+00   6.15551380e+00\n",
      "   3.72697869e+00   1.26164946e+00  -1.22228693e+00  -3.70679651e+00\n",
      "  -6.17014862e+00  -8.59028675e+00  -1.09516293e+01  -1.32379536e+01\n",
      "  -1.54338179e+01  -1.75246263e+01  -1.94966815e+01  -2.13317519e+01\n",
      "  -2.29952001e+01  -2.44987532e+01  -2.58335652e+01  -2.69919481e+01\n",
      "  -2.79673583e+01  -2.87543764e+01  -2.93186910e+01  -2.96679958e+01\n",
      "  -2.98181354e+01  -2.97693731e+01  -2.95229769e+01  -2.90811595e+01\n",
      "  -2.84133854e+01  -2.75430665e+01  -2.64934034e+01  -2.52713717e+01\n",
      "  -2.38845608e+01  -2.23353782e+01  -2.06051319e+01  -1.87442619e+01\n",
      "  -1.67635423e+01  -1.46739620e+01  -1.24866789e+01  -1.01933401e+01\n",
      "  -7.83474328e+00  -5.42495146e+00  -2.97607515e+00  -5.00072086e-01]\n"
     ]
    }
   ],
   "source": [
    "phi = np.arange(0, 10 * np.pi, 0.1)\n",
    "a = 1\n",
    "x = a * phi * np.cos(phi)\n",
    "y = a * phi * np.sin(phi)\n",
    "dr = (np.diff(x) ** 2 + np.diff(y) ** 2) ** .5\n",
    "r = np.zeros_like(x)\n",
    "r[1:] = np.cumsum(dr)\n",
    "r_int = np.linspace(0, r.max(), 200)\n",
    "x_int = np.interp(r_int, r, x)\n",
    "y_int = np.interp(r_int, r, y)\n",
    "print(r_int, x_int, y_int)"
   ]
  },
  {
   "cell_type": "markdown",
   "metadata": {},
   "source": [
    "#### 99. Given an integer n and a 2D array X, select from X the rows which can be interpreted as draws from a multinomial distribution with n degrees, i.e., the rows which only contain integers and which sum to n. (★★★)"
   ]
  },
  {
   "cell_type": "code",
   "execution_count": 99,
   "metadata": {},
   "outputs": [
    {
     "name": "stdout",
     "output_type": "stream",
     "text": [
      "[[ 2.  0.  1.  1.]]\n"
     ]
    }
   ],
   "source": [
    "x = np.asarray([[1.0, 0.0, 3.0, 8.0],\n",
    "                [2.0, 0.0, 1.0, 1.0],\n",
    "                [1.5, 2.5, 1.0, 0.0]])\n",
    "n = 4\n",
    "m = np.logical_and.reduce(np.mod(x, 1) == 0, axis=-1)\n",
    "m &= (x.sum(axis=-1) == n)\n",
    "print(x[m])"
   ]
  },
  {
   "cell_type": "markdown",
   "metadata": {},
   "source": [
    "#### 100. Compute bootstrapped 95% confidence intervals for the mean of a 1D array X (i.e., resample the elements of an array with replacement N times, compute the mean of each sample, and then compute percentiles over the means). (★★★)"
   ]
  },
  {
   "cell_type": "code",
   "execution_count": 100,
   "metadata": {},
   "outputs": [
    {
     "name": "stdout",
     "output_type": "stream",
     "text": [
      "[-0.1706901   0.17269279]\n"
     ]
    }
   ],
   "source": [
    "x = np.random.randn(100)\n",
    "n = 1000\n",
    "idx = np.random.randint(0, x.size, (n, x.size))\n",
    "means = x[idx].mean(axis=1)\n",
    "confint = np.percentile(means, [2.5, 97.5])\n",
    "print(confint)"
   ]
  },
  {
   "cell_type": "code",
   "execution_count": null,
   "metadata": {
    "collapsed": true
   },
   "outputs": [],
   "source": []
  }
 ],
 "metadata": {
  "kernelspec": {
   "display_name": "Python 3",
   "language": "python",
   "name": "python3"
  },
  "language_info": {
   "codemirror_mode": {
    "name": "ipython",
    "version": 3
   },
   "file_extension": ".py",
   "mimetype": "text/x-python",
   "name": "python",
   "nbconvert_exporter": "python",
   "pygments_lexer": "ipython3",
   "version": "3.6.1"
  }
 },
 "nbformat": 4,
 "nbformat_minor": 1
}
